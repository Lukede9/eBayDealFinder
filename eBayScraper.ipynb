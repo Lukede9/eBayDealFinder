{
 "cells": [
  {
   "cell_type": "code",
   "execution_count": 1,
   "metadata": {},
   "outputs": [],
   "source": [
    "import pandas as pd\n",
    "import scrapy\n",
    "import time\n",
    "from scrapy.crawler import CrawlerProcess"
   ]
  },
  {
   "cell_type": "code",
   "execution_count": 2,
   "metadata": {},
   "outputs": [],
   "source": [
    "class eBaySpider(scrapy.Spider):\n",
    "    name = \"eBaySpider\"\n",
    "    start_urls = ['https://www.ebay-kleinanzeigen.de/s-autos/anzeige:angebote/seite:2/c216']\n",
    "    \n",
    "    def parse(self, response):\n",
    "        urls = []\n",
    "        for i in range(1, 3):\n",
    "            urls.append(response.xpath('//*[@id=\"srchrslt-adtable-topads\"]/li[{}]/article/div[2]/h2//a/@href'.format(str(i))).extract())\n",
    "        for i in range(1, 28):\n",
    "            urls.append(response.xpath('//*[@id=\"srchrslt-adtable\"]/li[{}]/article/div[2]/h2//a/@href'.format(str(i))).extract())\n",
    "        \n",
    "        flat_urls = [item for sublist in urls for item in sublist]\n",
    "        \n",
    "        for url in flat_urls:\n",
    "            url = response.urljoin(url)\n",
    "            yield scrapy.Request(url=url, callback=self.parse_listing)\n",
    "     \n",
    "        next_page_url = response.xpath('//*[@id=\"srchrslt-pagination\"]/div/div[3]/a/@href').extract_first()\n",
    "        if next_page_url:\n",
    "            next_page_url = response.urljoin(next_page_url)\n",
    "            yield scrapy.Request(url=next_page_url, callback=self.parse)\n",
    "    \n",
    "    def parse_listing(self, response):\n",
    "        gte = {\"Besch\\u00e4digtes Fahrzeug:\" : \"notRepairedDamage\",\n",
    "                \"Marke:\" : \"brand\",\n",
    "                \"Modell:\" : \"model\",\n",
    "                \"Kilometerstand:\" : \"kilometer\",\n",
    "                'Erstzulassungsjahr:' : \"yearOfRegistration\",\n",
    "                \"Fahrzeugtyp:\" : 'vehicleType',\n",
    "                \"Kraftstoffart:\" : 'fuelType',\n",
    "                \"Leistung (PS):\" : \"powerPS\",\n",
    "                \"Getriebe:\" : \"gearbox\",\n",
    "                \"T\\u00dcV Jahr:\" : \"someYearThing\",\n",
    "                \"T\\u00dcV Monat:\": \"monthThing\",\n",
    "                \"Umweltplakette:\" : \"environmentalThing\",\n",
    "                \"Schadstoffklasse:\" : \"emissionThing\",\n",
    "                \"Au\\u00dfenfarbe:\": \"color\",\n",
    "                \"Material Innenausstattung:\" : \"interiorMaterial\",\n",
    "                \"Anzahl Türen:\" : \"numberOfDoors\",\n",
    "                \"Ausstattung:\" : 'domesticEquipment',\n",
    "                \"Ort:\" : \"place\",\n",
    "                \"Erstellungsdatum:\" : 'creationDate',\n",
    "                \"Anzeigennummer:\" : \"referenceNumber\",\n",
    "                \"Erstzulassungsmonat:\": \"monthOfRegistration\",\n",
    "              }\n",
    "        \n",
    "        for listing in response.xpath('//*[@id=\"viewad-main\"]'):\n",
    "            vari = {'name' : ''.join(listing.xpath(\"//*[@id='viewad-title']/text()\").extract()).strip().lower(),\n",
    "                'price' : ''.join(listing.xpath(\"//*[@id='viewad-price']/text()\").extract()).strip().lower()\n",
    "                  }\n",
    "        for listing in response.xpath('//*[@id=\"viewad-details\"]/section'):\n",
    "            able = {gte[''.join(listing.xpath(\"//dl/dt[{}]/text()\".format(i)).extract()).strip()] : ''.join(listing.xpath(\"//dl/dd[{}]/span/text()\".format(i)).extract()).strip().lower()+''.join(listing.xpath(\"//dl/dd[{}]/span/a/text()\".format(i)).extract()).strip().lower() for i in list(range(1,22))}\n",
    "                  \n",
    "        yield {**vari, **able}"
   ]
  },
  {
   "cell_type": "code",
   "execution_count": 3,
   "metadata": {},
   "outputs": [
    {
     "name": "stdout",
     "output_type": "stream",
     "text": [
      "56.82296109199524\n"
     ]
    }
   ],
   "source": [
    "start = time.time()\n",
    "# Instantiate our crawler.\n",
    "process = CrawlerProcess({\n",
    "    'FEED_FORMAT': 'json',\n",
    "    'FEED_URI': 'used_cars.json',\n",
    "    'ROBOTSTXT_OBEY': True,\n",
    "    'LOG_ENABLED': False,\n",
    "    'AUTOTHROTTLE_ENABLED': True,\n",
    "    'HTTPCACHE_ENABLED': True\n",
    "})\n",
    "\n",
    "# Start the crawler with our spider.\n",
    "process.crawl(eBaySpider)\n",
    "process.start()\n",
    "print(time.time() - start)"
   ]
  },
  {
   "cell_type": "markdown",
   "metadata": {},
   "source": [
    "## Importing the newly scraped dataset and making it match the old one."
   ]
  },
  {
   "cell_type": "code",
   "execution_count": 4,
   "metadata": {},
   "outputs": [],
   "source": [
    "used_cars = pd.read_json('used_cars.json')"
   ]
  },
  {
   "cell_type": "code",
   "execution_count": 5,
   "metadata": {},
   "outputs": [],
   "source": [
    "autos = used_cars.copy()"
   ]
  },
  {
   "cell_type": "code",
   "execution_count": 6,
   "metadata": {},
   "outputs": [],
   "source": [
    "autos['age'] = 2019 - autos.yearOfRegistration\n",
    "autos = autos.drop(columns=['yearOfRegistration', 'color', 'creationDate', 'domesticEquipment', 'emissionThing', 'environmentalThing', 'interiorMaterial', 'monthOfRegistration', 'monthThing', 'referenceNumber', 'someYearThing', 'numberOfDoors', 'place'])"
   ]
  },
  {
   "cell_type": "code",
   "execution_count": 7,
   "metadata": {},
   "outputs": [],
   "source": [
    "# Taking care of cleaning the price column\n",
    "def clean_price(price):\n",
    "    new_price = price.replace('preis: ', '')\n",
    "    new_price = new_price.replace(' €', '')\n",
    "    new_price = new_price.replace('.', '')\n",
    "    new_price = new_price.replace(' vb', '')\n",
    "    if new_price == '':\n",
    "        return None\n",
    "    else:\n",
    "        new_price = int(new_price)\n",
    "        return new_price\n",
    "\n",
    "autos.price = autos.price.apply(lambda x: clean_price(x))\n",
    "autos = autos.dropna(subset=['price'])"
   ]
  },
  {
   "cell_type": "code",
   "execution_count": 8,
   "metadata": {},
   "outputs": [],
   "source": [
    "# Cleaning the kilometer column\n",
    "autos.kilometer = autos.kilometer * 1000\n",
    "\n",
    "def round_km(km):\n",
    "    old_km_cats = [5000, 10000, 20000, 30000, 40000, 50000, 60000, 70000, 80000, 90000, 100000, 125000, 150000]\n",
    "    return min(old_km_cats, key=lambda x:abs(x-km))\n",
    "\n",
    "autos.kilometer = autos.kilometer.apply(lambda x: round_km(x))"
   ]
  },
  {
   "cell_type": "code",
   "execution_count": 9,
   "metadata": {},
   "outputs": [],
   "source": [
    "# Removing accents from vehicleType column\n",
    "autos.vehicleType = autos.vehicleType.apply(lambda x: x.replace('é', 'e'))\n",
    "\n",
    "# Matching the values in vehicleType to the old format\n",
    "def clean_type(vehicleType):\n",
    "    if vehicleType == 'suv/geländewagen':\n",
    "        return 'suv'\n",
    "    elif vehicleType == 'van/bus':\n",
    "        return 'bus'\n",
    "    else: return vehicleType\n",
    "\n",
    "autos.vehicleType = autos.vehicleType.apply(lambda x: clean_type(x))"
   ]
  },
  {
   "cell_type": "code",
   "execution_count": 10,
   "metadata": {},
   "outputs": [],
   "source": [
    "# Matching the values in the fuelType column to the old format\n",
    "def clean_fuel(fuel):\n",
    "    if fuel == 'autogas (lpg)':\n",
    "        return 'lpg'\n",
    "    elif fuel == 'erdgas (cng)':\n",
    "        return 'cng'\n",
    "    else: return fuel\n",
    "    \n",
    "autos.fuelType = autos.fuelType.apply(lambda x: clean_fuel(x))"
   ]
  },
  {
   "cell_type": "code",
   "execution_count": 11,
   "metadata": {
    "scrolled": true
   },
   "outputs": [],
   "source": [
    "# Dropping all the values in brand/model that do not appear frequently enough in the training set\n",
    "\n",
    "training_models = ['golf', 'a5', 'grand', 'fabia', '3er', '2_reihe', 'c_max',\n",
    "       '3_reihe', 'passat', 'polo', 'twingo', 'a_klasse', 'scirocco',\n",
    "       '5er', 'meriva', 'arosa', 'andere', 'civic', 'transporter',\n",
    "       'punto', 'e_klasse', 'clio', 'kangoo', 'one', 'fortwo', '1er',\n",
    "       'b_klasse', 'astra', 'a8', 'fiesta', 'c_klasse', 'micra', 'vito',\n",
    "       'sprinter', '156', 'escort', 'scenic', 'a4', 'ka', 'a1',\n",
    "       'insignia', 'focus', 'tt', 'corsa', 'a6', 'omega', 'slk', '7er',\n",
    "       '80', '147', 'z_reihe', 'caddy', 'v40', 'ibiza', 'eos', 'touran',\n",
    "       'a3', 'almera', 'megane', 'lupo', 'zafira', 'mondeo', 'colt',\n",
    "       'vectra', 'berlingo', 'm_klasse', 'tiguan', 'i_reihe', 'espace',\n",
    "       'sharan', '6_reihe', 'panda', 'seicento', 'octavia', 'fox',\n",
    "       'beetle', 'touareg', 'x_reihe', 'galaxy', 'c3', 's_klasse',\n",
    "       '1_reihe', 'avensis', 'sl', 'cooper', 'leon', '4_reihe', '500',\n",
    "       'laguna', 'clk', 'primera', 'transit', 'qashqai', 'corolla',\n",
    "       'swift', 'stilo', '911', 'mx_reihe', 'yaris', 'bora', 'tigra',\n",
    "       'v70']\n",
    "\n",
    "autos = autos[[i in training_models for i in autos.model]]"
   ]
  },
  {
   "cell_type": "code",
   "execution_count": 12,
   "metadata": {},
   "outputs": [],
   "source": [
    "# Exporting it for use in the models notebook\n",
    "autos.to_csv(\"new_used_cars.csv\")"
   ]
  }
 ],
 "metadata": {
  "kernelspec": {
   "display_name": "Python 3",
   "language": "python",
   "name": "python3"
  },
  "language_info": {
   "codemirror_mode": {
    "name": "ipython",
    "version": 3
   },
   "file_extension": ".py",
   "mimetype": "text/x-python",
   "name": "python",
   "nbconvert_exporter": "python",
   "pygments_lexer": "ipython3",
   "version": "3.6.4"
  }
 },
 "nbformat": 4,
 "nbformat_minor": 2
}
