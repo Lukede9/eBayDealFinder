{
 "cells": [
  {
   "cell_type": "markdown",
   "metadata": {},
   "source": [
    "# Final Capstone Exploratory Data Analysis"
   ]
  },
  {
   "cell_type": "markdown",
   "metadata": {},
   "source": [
    "With a dataset collected from eBay Kleinanzeigan (German eBay) and found on Kaggle.com, I explore the potential of this dataset to predict the price of a used car. The variables are familiar ones, but in German. They include: type of vehicle, gearbox, mileage, brand, and more. Let's get into it!"
   ]
  },
  {
   "cell_type": "markdown",
   "metadata": {},
   "source": [
    "https://www.kaggle.com/orgesleka/used-cars-database/home"
   ]
  },
  {
   "cell_type": "code",
   "execution_count": 1,
   "metadata": {},
   "outputs": [],
   "source": [
    "import numpy as np\n",
    "import pandas as pd\n",
    "\n",
    "import matplotlib.pyplot as plt\n",
    "import seaborn as sns"
   ]
  },
  {
   "cell_type": "code",
   "execution_count": 2,
   "metadata": {},
   "outputs": [
    {
     "name": "stderr",
     "output_type": "stream",
     "text": [
      "Skipping line 5263: ',' expected after '\"'\n",
      "Skipping line 14386: ',' expected after '\"'\n",
      "Skipping line 15168: ',' expected after '\"'\n",
      "Skipping line 17600: ',' expected after '\"'\n",
      "Skipping line 22156: ',' expected after '\"'\n",
      "Skipping line 22864: ',' expected after '\"'\n",
      "Skipping line 23697: ',' expected after '\"'\n",
      "Skipping line 31244: ',' expected after '\"'\n",
      "Skipping line 33504: ',' expected after '\"'\n",
      "Skipping line 34602: ',' expected after '\"'\n",
      "Skipping line 40607: ',' expected after '\"'\n",
      "Skipping line 47669: ',' expected after '\"'\n",
      "Skipping line 49557: ',' expected after '\"'\n",
      "Skipping line 55102: ',' expected after '\"'\n",
      "Skipping line 59644: ',' expected after '\"'\n",
      "Skipping line 60996: ',' expected after '\"'\n",
      "Skipping line 62910: ',' expected after '\"'\n",
      "Skipping line 68072: ',' expected after '\"'\n",
      "Skipping line 73313: ',' expected after '\"'\n",
      "Skipping line 74141: ',' expected after '\"'\n",
      "Skipping line 75706: ',' expected after '\"'\n",
      "Skipping line 80511: ',' expected after '\"'\n",
      "Skipping line 81415: ',' expected after '\"'\n",
      "Skipping line 95772: ',' expected after '\"'\n",
      "Skipping line 103234: ',' expected after '\"'\n",
      "Skipping line 104467: ',' expected after '\"'\n",
      "Skipping line 106982: ',' expected after '\"'\n",
      "Skipping line 112847: ',' expected after '\"'\n",
      "Skipping line 118349: ',' expected after '\"'\n",
      "Skipping line 119488: ',' expected after '\"'\n",
      "Skipping line 120709: ',' expected after '\"'\n",
      "Skipping line 124390: ',' expected after '\"'\n",
      "Skipping line 126105: ',' expected after '\"'\n",
      "Skipping line 130128: ',' expected after '\"'\n",
      "Skipping line 130690: ',' expected after '\"'\n",
      "Skipping line 135388: ',' expected after '\"'\n",
      "Skipping line 136330: ',' expected after '\"'\n",
      "Skipping line 142237: ',' expected after '\"'\n",
      "Skipping line 146838: ',' expected after '\"'\n",
      "Skipping line 173875: ',' expected after '\"'\n",
      "Skipping line 174161: ',' expected after '\"'\n",
      "Skipping line 182567: ',' expected after '\"'\n",
      "Skipping line 190869: ',' expected after '\"'\n",
      "Skipping line 197702: ',' expected after '\"'\n",
      "Skipping line 200739: ',' expected after '\"'\n",
      "Skipping line 201167: ',' expected after '\"'\n",
      "Skipping line 208933: ',' expected after '\"'\n",
      "Skipping line 214852: ',' expected after '\"'\n",
      "Skipping line 226275: ',' expected after '\"'\n",
      "Skipping line 244220: ',' expected after '\"'\n",
      "Skipping line 244868: ',' expected after '\"'\n",
      "Skipping line 246011: ',' expected after '\"'\n",
      "Skipping line 246922: ',' expected after '\"'\n",
      "Skipping line 273557: ',' expected after '\"'\n",
      "Skipping line 281614: ',' expected after '\"'\n",
      "Skipping line 282498: ',' expected after '\"'\n",
      "Skipping line 292293: ',' expected after '\"'\n",
      "Skipping line 304624: ',' expected after '\"'\n",
      "Skipping line 306120: ',' expected after '\"'\n",
      "Skipping line 312650: ',' expected after '\"'\n",
      "Skipping line 314706: ',' expected after '\"'\n",
      "Skipping line 318170: ',' expected after '\"'\n",
      "Skipping line 329036: ',' expected after '\"'\n",
      "Skipping line 340072: ',' expected after '\"'\n",
      "Skipping line 342318: ',' expected after '\"'\n",
      "Skipping line 350497: ',' expected after '\"'\n",
      "Skipping line 354764: ',' expected after '\"'\n",
      "Skipping line 357370: ',' expected after '\"'\n",
      "Skipping line 358966: ',' expected after '\"'\n",
      "Skipping line 368135: ',' expected after '\"'\n",
      "Skipping line 368822: ',' expected after '\"'\n"
     ]
    }
   ],
   "source": [
    "autos_import = pd.read_csv(\"autos.csv\", error_bad_lines=False, engine='python')"
   ]
  },
  {
   "cell_type": "code",
   "execution_count": 3,
   "metadata": {},
   "outputs": [],
   "source": [
    "autos = autos_import.copy()"
   ]
  },
  {
   "cell_type": "code",
   "execution_count": 4,
   "metadata": {},
   "outputs": [],
   "source": [
    "# Convenient translations\n",
    "key_terms = {'privat' : 'private',\n",
    "               'gewerblich' : 'commercial',\n",
    "               'angebot' : 'bid',\n",
    "               'gesuch' : 'buy now',\n",
    "               'kleinwagen' : 'small car',\n",
    "               'kombi' : 'station wagon',\n",
    "               'andere' : 'other',\n",
    "               'manuell' : 'manual',\n",
    "               'automatik' : 'automatic',\n",
    "               'benzin' : 'gasoline',\n",
    "               'nein' : 'no',\n",
    "               'ja' : 'yes',\n",
    "}"
   ]
  },
  {
   "cell_type": "markdown",
   "metadata": {},
   "source": [
    "## Sweeping Exploration"
   ]
  },
  {
   "cell_type": "code",
   "execution_count": 5,
   "metadata": {},
   "outputs": [
    {
     "data": {
      "text/html": [
       "<div>\n",
       "<style scoped>\n",
       "    .dataframe tbody tr th:only-of-type {\n",
       "        vertical-align: middle;\n",
       "    }\n",
       "\n",
       "    .dataframe tbody tr th {\n",
       "        vertical-align: top;\n",
       "    }\n",
       "\n",
       "    .dataframe thead th {\n",
       "        text-align: right;\n",
       "    }\n",
       "</style>\n",
       "<table border=\"1\" class=\"dataframe\">\n",
       "  <thead>\n",
       "    <tr style=\"text-align: right;\">\n",
       "      <th></th>\n",
       "      <th>dateCrawled</th>\n",
       "      <th>name</th>\n",
       "      <th>seller</th>\n",
       "      <th>offerType</th>\n",
       "      <th>price</th>\n",
       "      <th>abtest</th>\n",
       "      <th>vehicleType</th>\n",
       "      <th>yearOfRegistration</th>\n",
       "      <th>gearbox</th>\n",
       "      <th>powerPS</th>\n",
       "      <th>model</th>\n",
       "      <th>kilometer</th>\n",
       "      <th>monthOfRegistration</th>\n",
       "      <th>fuelType</th>\n",
       "      <th>brand</th>\n",
       "      <th>notRepairedDamage</th>\n",
       "      <th>dateCreated</th>\n",
       "      <th>nrOfPictures</th>\n",
       "      <th>postalCode</th>\n",
       "      <th>lastSeen</th>\n",
       "    </tr>\n",
       "  </thead>\n",
       "  <tbody>\n",
       "    <tr>\n",
       "      <th>371452</th>\n",
       "      <td>2016-03-14 17:48:27</td>\n",
       "      <td>Suche_t4___vito_ab_6_sitze</td>\n",
       "      <td>privat</td>\n",
       "      <td>Angebot</td>\n",
       "      <td>2200</td>\n",
       "      <td>test</td>\n",
       "      <td>NaN</td>\n",
       "      <td>2005</td>\n",
       "      <td>NaN</td>\n",
       "      <td>0</td>\n",
       "      <td>NaN</td>\n",
       "      <td>20000</td>\n",
       "      <td>1</td>\n",
       "      <td>NaN</td>\n",
       "      <td>sonstige_autos</td>\n",
       "      <td>NaN</td>\n",
       "      <td>2016-03-14 00:00:00</td>\n",
       "      <td>0</td>\n",
       "      <td>39576</td>\n",
       "      <td>2016-04-06 00:46:52</td>\n",
       "    </tr>\n",
       "    <tr>\n",
       "      <th>371453</th>\n",
       "      <td>2016-03-05 19:56:21</td>\n",
       "      <td>Smart_smart_leistungssteigerung_100ps</td>\n",
       "      <td>privat</td>\n",
       "      <td>Angebot</td>\n",
       "      <td>1199</td>\n",
       "      <td>test</td>\n",
       "      <td>cabrio</td>\n",
       "      <td>2000</td>\n",
       "      <td>automatik</td>\n",
       "      <td>101</td>\n",
       "      <td>fortwo</td>\n",
       "      <td>125000</td>\n",
       "      <td>3</td>\n",
       "      <td>benzin</td>\n",
       "      <td>smart</td>\n",
       "      <td>nein</td>\n",
       "      <td>2016-03-05 00:00:00</td>\n",
       "      <td>0</td>\n",
       "      <td>26135</td>\n",
       "      <td>2016-03-11 18:17:12</td>\n",
       "    </tr>\n",
       "    <tr>\n",
       "      <th>371454</th>\n",
       "      <td>2016-03-19 18:57:12</td>\n",
       "      <td>Volkswagen_Multivan_T4_TDI_7DC_UY2</td>\n",
       "      <td>privat</td>\n",
       "      <td>Angebot</td>\n",
       "      <td>9200</td>\n",
       "      <td>test</td>\n",
       "      <td>bus</td>\n",
       "      <td>1996</td>\n",
       "      <td>manuell</td>\n",
       "      <td>102</td>\n",
       "      <td>transporter</td>\n",
       "      <td>150000</td>\n",
       "      <td>3</td>\n",
       "      <td>diesel</td>\n",
       "      <td>volkswagen</td>\n",
       "      <td>nein</td>\n",
       "      <td>2016-03-19 00:00:00</td>\n",
       "      <td>0</td>\n",
       "      <td>87439</td>\n",
       "      <td>2016-04-07 07:15:26</td>\n",
       "    </tr>\n",
       "    <tr>\n",
       "      <th>371455</th>\n",
       "      <td>2016-03-20 19:41:08</td>\n",
       "      <td>VW_Golf_Kombi_1_9l_TDI</td>\n",
       "      <td>privat</td>\n",
       "      <td>Angebot</td>\n",
       "      <td>3400</td>\n",
       "      <td>test</td>\n",
       "      <td>kombi</td>\n",
       "      <td>2002</td>\n",
       "      <td>manuell</td>\n",
       "      <td>100</td>\n",
       "      <td>golf</td>\n",
       "      <td>150000</td>\n",
       "      <td>6</td>\n",
       "      <td>diesel</td>\n",
       "      <td>volkswagen</td>\n",
       "      <td>NaN</td>\n",
       "      <td>2016-03-20 00:00:00</td>\n",
       "      <td>0</td>\n",
       "      <td>40764</td>\n",
       "      <td>2016-03-24 12:45:21</td>\n",
       "    </tr>\n",
       "    <tr>\n",
       "      <th>371456</th>\n",
       "      <td>2016-03-07 19:39:19</td>\n",
       "      <td>BMW_M135i_vollausgestattet_NP_52.720____Euro</td>\n",
       "      <td>privat</td>\n",
       "      <td>Angebot</td>\n",
       "      <td>28990</td>\n",
       "      <td>control</td>\n",
       "      <td>limousine</td>\n",
       "      <td>2013</td>\n",
       "      <td>manuell</td>\n",
       "      <td>320</td>\n",
       "      <td>m_reihe</td>\n",
       "      <td>50000</td>\n",
       "      <td>8</td>\n",
       "      <td>benzin</td>\n",
       "      <td>bmw</td>\n",
       "      <td>nein</td>\n",
       "      <td>2016-03-07 00:00:00</td>\n",
       "      <td>0</td>\n",
       "      <td>73326</td>\n",
       "      <td>2016-03-22 03:17:10</td>\n",
       "    </tr>\n",
       "  </tbody>\n",
       "</table>\n",
       "</div>"
      ],
      "text/plain": [
       "                dateCrawled                                          name  \\\n",
       "371452  2016-03-14 17:48:27                    Suche_t4___vito_ab_6_sitze   \n",
       "371453  2016-03-05 19:56:21         Smart_smart_leistungssteigerung_100ps   \n",
       "371454  2016-03-19 18:57:12            Volkswagen_Multivan_T4_TDI_7DC_UY2   \n",
       "371455  2016-03-20 19:41:08                        VW_Golf_Kombi_1_9l_TDI   \n",
       "371456  2016-03-07 19:39:19  BMW_M135i_vollausgestattet_NP_52.720____Euro   \n",
       "\n",
       "        seller offerType  price   abtest vehicleType  yearOfRegistration  \\\n",
       "371452  privat   Angebot   2200     test         NaN                2005   \n",
       "371453  privat   Angebot   1199     test      cabrio                2000   \n",
       "371454  privat   Angebot   9200     test         bus                1996   \n",
       "371455  privat   Angebot   3400     test       kombi                2002   \n",
       "371456  privat   Angebot  28990  control   limousine                2013   \n",
       "\n",
       "          gearbox  powerPS        model  kilometer  monthOfRegistration  \\\n",
       "371452        NaN        0          NaN      20000                    1   \n",
       "371453  automatik      101       fortwo     125000                    3   \n",
       "371454    manuell      102  transporter     150000                    3   \n",
       "371455    manuell      100         golf     150000                    6   \n",
       "371456    manuell      320      m_reihe      50000                    8   \n",
       "\n",
       "       fuelType           brand notRepairedDamage          dateCreated  \\\n",
       "371452      NaN  sonstige_autos               NaN  2016-03-14 00:00:00   \n",
       "371453   benzin           smart              nein  2016-03-05 00:00:00   \n",
       "371454   diesel      volkswagen              nein  2016-03-19 00:00:00   \n",
       "371455   diesel      volkswagen               NaN  2016-03-20 00:00:00   \n",
       "371456   benzin             bmw              nein  2016-03-07 00:00:00   \n",
       "\n",
       "        nrOfPictures  postalCode             lastSeen  \n",
       "371452             0       39576  2016-04-06 00:46:52  \n",
       "371453             0       26135  2016-03-11 18:17:12  \n",
       "371454             0       87439  2016-04-07 07:15:26  \n",
       "371455             0       40764  2016-03-24 12:45:21  \n",
       "371456             0       73326  2016-03-22 03:17:10  "
      ]
     },
     "execution_count": 5,
     "metadata": {},
     "output_type": "execute_result"
    }
   ],
   "source": [
    "autos.tail()"
   ]
  },
  {
   "cell_type": "code",
   "execution_count": 6,
   "metadata": {},
   "outputs": [
    {
     "data": {
      "text/html": [
       "<div>\n",
       "<style scoped>\n",
       "    .dataframe tbody tr th:only-of-type {\n",
       "        vertical-align: middle;\n",
       "    }\n",
       "\n",
       "    .dataframe tbody tr th {\n",
       "        vertical-align: top;\n",
       "    }\n",
       "\n",
       "    .dataframe thead th {\n",
       "        text-align: right;\n",
       "    }\n",
       "</style>\n",
       "<table border=\"1\" class=\"dataframe\">\n",
       "  <thead>\n",
       "    <tr style=\"text-align: right;\">\n",
       "      <th></th>\n",
       "      <th>price</th>\n",
       "      <th>yearOfRegistration</th>\n",
       "      <th>powerPS</th>\n",
       "      <th>kilometer</th>\n",
       "      <th>monthOfRegistration</th>\n",
       "      <th>nrOfPictures</th>\n",
       "      <th>postalCode</th>\n",
       "    </tr>\n",
       "  </thead>\n",
       "  <tbody>\n",
       "    <tr>\n",
       "      <th>count</th>\n",
       "      <td>3.714570e+05</td>\n",
       "      <td>371457.000000</td>\n",
       "      <td>371457.000000</td>\n",
       "      <td>371457.000000</td>\n",
       "      <td>371457.000000</td>\n",
       "      <td>371457.0</td>\n",
       "      <td>371457.000000</td>\n",
       "    </tr>\n",
       "    <tr>\n",
       "      <th>mean</th>\n",
       "      <td>1.729780e+04</td>\n",
       "      <td>2004.578603</td>\n",
       "      <td>115.556221</td>\n",
       "      <td>125617.541196</td>\n",
       "      <td>5.734610</td>\n",
       "      <td>0.0</td>\n",
       "      <td>50822.358650</td>\n",
       "    </tr>\n",
       "    <tr>\n",
       "      <th>std</th>\n",
       "      <td>3.588297e+06</td>\n",
       "      <td>92.875411</td>\n",
       "      <td>192.155494</td>\n",
       "      <td>40112.798219</td>\n",
       "      <td>3.712313</td>\n",
       "      <td>0.0</td>\n",
       "      <td>25799.298421</td>\n",
       "    </tr>\n",
       "    <tr>\n",
       "      <th>min</th>\n",
       "      <td>0.000000e+00</td>\n",
       "      <td>1000.000000</td>\n",
       "      <td>0.000000</td>\n",
       "      <td>5000.000000</td>\n",
       "      <td>0.000000</td>\n",
       "      <td>0.0</td>\n",
       "      <td>1067.000000</td>\n",
       "    </tr>\n",
       "    <tr>\n",
       "      <th>25%</th>\n",
       "      <td>1.150000e+03</td>\n",
       "      <td>1999.000000</td>\n",
       "      <td>70.000000</td>\n",
       "      <td>125000.000000</td>\n",
       "      <td>3.000000</td>\n",
       "      <td>0.0</td>\n",
       "      <td>30459.000000</td>\n",
       "    </tr>\n",
       "    <tr>\n",
       "      <th>50%</th>\n",
       "      <td>2.950000e+03</td>\n",
       "      <td>2003.000000</td>\n",
       "      <td>105.000000</td>\n",
       "      <td>150000.000000</td>\n",
       "      <td>6.000000</td>\n",
       "      <td>0.0</td>\n",
       "      <td>49610.000000</td>\n",
       "    </tr>\n",
       "    <tr>\n",
       "      <th>75%</th>\n",
       "      <td>7.200000e+03</td>\n",
       "      <td>2008.000000</td>\n",
       "      <td>150.000000</td>\n",
       "      <td>150000.000000</td>\n",
       "      <td>9.000000</td>\n",
       "      <td>0.0</td>\n",
       "      <td>71549.000000</td>\n",
       "    </tr>\n",
       "    <tr>\n",
       "      <th>max</th>\n",
       "      <td>2.147484e+09</td>\n",
       "      <td>9999.000000</td>\n",
       "      <td>20000.000000</td>\n",
       "      <td>150000.000000</td>\n",
       "      <td>12.000000</td>\n",
       "      <td>0.0</td>\n",
       "      <td>99998.000000</td>\n",
       "    </tr>\n",
       "  </tbody>\n",
       "</table>\n",
       "</div>"
      ],
      "text/plain": [
       "              price  yearOfRegistration        powerPS      kilometer  \\\n",
       "count  3.714570e+05       371457.000000  371457.000000  371457.000000   \n",
       "mean   1.729780e+04         2004.578603     115.556221  125617.541196   \n",
       "std    3.588297e+06           92.875411     192.155494   40112.798219   \n",
       "min    0.000000e+00         1000.000000       0.000000    5000.000000   \n",
       "25%    1.150000e+03         1999.000000      70.000000  125000.000000   \n",
       "50%    2.950000e+03         2003.000000     105.000000  150000.000000   \n",
       "75%    7.200000e+03         2008.000000     150.000000  150000.000000   \n",
       "max    2.147484e+09         9999.000000   20000.000000  150000.000000   \n",
       "\n",
       "       monthOfRegistration  nrOfPictures     postalCode  \n",
       "count        371457.000000      371457.0  371457.000000  \n",
       "mean              5.734610           0.0   50822.358650  \n",
       "std               3.712313           0.0   25799.298421  \n",
       "min               0.000000           0.0    1067.000000  \n",
       "25%               3.000000           0.0   30459.000000  \n",
       "50%               6.000000           0.0   49610.000000  \n",
       "75%               9.000000           0.0   71549.000000  \n",
       "max              12.000000           0.0   99998.000000  "
      ]
     },
     "execution_count": 6,
     "metadata": {},
     "output_type": "execute_result"
    }
   ],
   "source": [
    "# Already some silliness going on.\n",
    "autos.describe()"
   ]
  },
  {
   "cell_type": "code",
   "execution_count": 7,
   "metadata": {},
   "outputs": [
    {
     "name": "stdout",
     "output_type": "stream",
     "text": [
      "<class 'pandas.core.frame.DataFrame'>\n",
      "RangeIndex: 371457 entries, 0 to 371456\n",
      "Data columns (total 20 columns):\n",
      "dateCrawled            371457 non-null object\n",
      "name                   371457 non-null object\n",
      "seller                 371457 non-null object\n",
      "offerType              371457 non-null object\n",
      "price                  371457 non-null int64\n",
      "abtest                 371457 non-null object\n",
      "vehicleType            333600 non-null object\n",
      "yearOfRegistration     371457 non-null int64\n",
      "gearbox                351256 non-null object\n",
      "powerPS                371457 non-null int64\n",
      "model                  350980 non-null object\n",
      "kilometer              371457 non-null int64\n",
      "monthOfRegistration    371457 non-null int64\n",
      "fuelType               338084 non-null object\n",
      "brand                  371457 non-null object\n",
      "notRepairedDamage      299411 non-null object\n",
      "dateCreated            371457 non-null object\n",
      "nrOfPictures           371457 non-null int64\n",
      "postalCode             371457 non-null int64\n",
      "lastSeen               371457 non-null object\n",
      "dtypes: int64(7), object(13)\n",
      "memory usage: 56.7+ MB\n"
     ]
    }
   ],
   "source": [
    "autos.info()"
   ]
  },
  {
   "cell_type": "code",
   "execution_count": 8,
   "metadata": {
    "scrolled": true
   },
   "outputs": [
    {
     "name": "stdout",
     "output_type": "stream",
     "text": [
      "length 371457\n",
      "dateCrawled Unique items:  280461 Missing:  0\n",
      "name Unique items:  233461 Missing:  0\n",
      "seller Unique items:  2 Missing:  0\n",
      "offerType Unique items:  2 Missing:  0\n",
      "price Unique items:  5597 Missing:  0\n",
      "abtest Unique items:  2 Missing:  0\n",
      "vehicleType Unique items:  8 Missing:  37857\n",
      "yearOfRegistration Unique items:  155 Missing:  0\n",
      "gearbox Unique items:  2 Missing:  20201\n",
      "powerPS Unique items:  794 Missing:  0\n",
      "model Unique items:  251 Missing:  20477\n",
      "kilometer Unique items:  13 Missing:  0\n",
      "monthOfRegistration Unique items:  13 Missing:  0\n",
      "fuelType Unique items:  7 Missing:  33373\n",
      "brand Unique items:  40 Missing:  0\n",
      "notRepairedDamage Unique items:  2 Missing:  72046\n",
      "dateCreated Unique items:  114 Missing:  0\n",
      "nrOfPictures Unique items:  1 Missing:  0\n",
      "postalCode Unique items:  8150 Missing:  0\n",
      "lastSeen Unique items:  182771 Missing:  0\n"
     ]
    }
   ],
   "source": [
    "# Getting an idea of how many unique/missing items we have.\n",
    "print('length', len(autos))\n",
    "for item in autos.columns:\n",
    "    print(item, \"Unique items: \", autos[item].nunique(), 'Missing: ', (len(autos) - autos[item].count()))\n",
    "    "
   ]
  },
  {
   "cell_type": "markdown",
   "metadata": {},
   "source": [
    "## Variable by Variable Exploration"
   ]
  },
  {
   "cell_type": "markdown",
   "metadata": {},
   "source": [
    "### name\n",
    "- This is the name of the posting.\n",
    "- There are hundreds of thousands of different names. Unless I can extract information from them, they wont be nearly as useful as the vehicle's make or model.\n",
    "- Some people used the same name for their postings so it will not work as the ID column"
   ]
  },
  {
   "cell_type": "markdown",
   "metadata": {},
   "source": [
    "### seller"
   ]
  },
  {
   "cell_type": "code",
   "execution_count": 9,
   "metadata": {},
   "outputs": [
    {
     "data": {
      "text/plain": [
       "privat        371454\n",
       "gewerblich         3\n",
       "Name: seller, dtype: int64"
      ]
     },
     "execution_count": 9,
     "metadata": {},
     "output_type": "execute_result"
    }
   ],
   "source": [
    "autos['seller'].value_counts()"
   ]
  },
  {
   "cell_type": "markdown",
   "metadata": {},
   "source": [
    "- There are only two types of sellers, private and commercial.\n",
    "- This variable is quite imbalanced. Only 3 postings were commercial.\n",
    "- The commercial postings are so few that I will toss them out completely."
   ]
  },
  {
   "cell_type": "markdown",
   "metadata": {},
   "source": [
    "### offerType"
   ]
  },
  {
   "cell_type": "code",
   "execution_count": 10,
   "metadata": {},
   "outputs": [
    {
     "data": {
      "text/plain": [
       "Angebot    371445\n",
       "Gesuch         12\n",
       "Name: offerType, dtype: int64"
      ]
     },
     "execution_count": 10,
     "metadata": {},
     "output_type": "execute_result"
    }
   ],
   "source": [
    "autos['offerType'].value_counts()"
   ]
  },
  {
   "cell_type": "markdown",
   "metadata": {},
   "source": [
    "- There are two types of offers. Bids and buy now offers.\n",
    "- Bidding is the main competitive advantage of eBay and what this project seeks to take advantage of.\n",
    "- Buy now offers are too few. I will not be using them."
   ]
  },
  {
   "cell_type": "markdown",
   "metadata": {},
   "source": [
    "### abtest"
   ]
  },
  {
   "cell_type": "code",
   "execution_count": 11,
   "metadata": {},
   "outputs": [
    {
     "data": {
      "text/plain": [
       "test       192553\n",
       "control    178904\n",
       "Name: abtest, dtype: int64"
      ]
     },
     "execution_count": 11,
     "metadata": {},
     "output_type": "execute_result"
    }
   ],
   "source": [
    "autos['abtest'].value_counts()"
   ]
  },
  {
   "cell_type": "markdown",
   "metadata": {},
   "source": [
    "- Includes two fairly even categories; test and control.\n",
    "- It is completely unclear what this variable means or whether it will have predictive power.\n",
    "- I intend to ignore it completely."
   ]
  },
  {
   "cell_type": "markdown",
   "metadata": {},
   "source": [
    "### vehicleType\n",
    "- There are 8 different vehicle types.\n",
    "- Roughly 10% of the postings do not include the vehicle type."
   ]
  },
  {
   "cell_type": "markdown",
   "metadata": {},
   "source": [
    "### yearOfRegistration\n",
    "- There are 155 unique values in the year of registration column--more distinct years than cars have existed.\n",
    "- I will have to do something about the postings that include impossible years."
   ]
  },
  {
   "cell_type": "markdown",
   "metadata": {},
   "source": [
    "### gearbox"
   ]
  },
  {
   "cell_type": "code",
   "execution_count": 12,
   "metadata": {},
   "outputs": [
    {
     "data": {
      "text/plain": [
       "<matplotlib.axes._subplots.AxesSubplot at 0x1033ff908>"
      ]
     },
     "execution_count": 12,
     "metadata": {},
     "output_type": "execute_result"
    },
    {
     "data": {
      "image/png": "[encoded data removed]",
      "text/plain": [
       "<Figure size 432x288 with 1 Axes>"
      ]
     },
     "metadata": {},
     "output_type": "display_data"
    }
   ],
   "source": [
    "sns.countplot(autos.gearbox)"
   ]
  },
  {
   "cell_type": "markdown",
   "metadata": {},
   "source": [
    "- Manual/Automatic\n",
    "- This is europe so most of the cars are manual."
   ]
  },
  {
   "cell_type": "markdown",
   "metadata": {},
   "source": [
    "### powerPS"
   ]
  },
  {
   "cell_type": "code",
   "execution_count": 13,
   "metadata": {},
   "outputs": [
    {
     "data": {
      "text/plain": [
       "count    371457.000000\n",
       "mean        115.556221\n",
       "std         192.155494\n",
       "min           0.000000\n",
       "25%          70.000000\n",
       "50%         105.000000\n",
       "75%         150.000000\n",
       "max       20000.000000\n",
       "Name: powerPS, dtype: float64"
      ]
     },
     "execution_count": 13,
     "metadata": {},
     "output_type": "execute_result"
    }
   ],
   "source": [
    "autos.powerPS.describe()"
   ]
  },
  {
   "cell_type": "code",
   "execution_count": 14,
   "metadata": {},
   "outputs": [
    {
     "name": "stderr",
     "output_type": "stream",
     "text": [
      "/Library/Frameworks/Python.framework/Versions/3.6/lib/python3.6/site-packages/scipy/stats/stats.py:1713: FutureWarning: Using a non-tuple sequence for multidimensional indexing is deprecated; use `arr[tuple(seq)]` instead of `arr[seq]`. In the future this will be interpreted as an array index, `arr[np.array(seq)]`, which will result either in an error or a different result.\n",
      "  return np.add.reduce(sorted[indexer] * weights, axis=axis) / sumval\n"
     ]
    },
    {
     "data": {
      "text/plain": [
       "<matplotlib.axes._subplots.AxesSubplot at 0x11a8eb6d8>"
      ]
     },
     "execution_count": 14,
     "metadata": {},
     "output_type": "execute_result"
    },
    {
     "data": {
      "image/png": "[encoded data removed]",
      "text/plain": [
       "<Figure size 432x288 with 1 Axes>"
      ]
     },
     "metadata": {},
     "output_type": "display_data"
    }
   ],
   "source": [
    "sns.distplot(autos.powerPS)"
   ]
  },
  {
   "cell_type": "code",
   "execution_count": 15,
   "metadata": {},
   "outputs": [
    {
     "data": {
      "text/plain": [
       "40803"
      ]
     },
     "execution_count": 15,
     "metadata": {},
     "output_type": "execute_result"
    }
   ],
   "source": [
    "len(autos[autos.powerPS == 0])"
   ]
  },
  {
   "cell_type": "markdown",
   "metadata": {},
   "source": [
    "- PS is the German abbreviation for horse-power.\n",
    "- 32804 of the entries are 0. This could either mean that these cars are busted/antique (in which case I would expect them to also be listed as having notRepairedDamage) or the average person does not know or care about the strength of their car (I sure don't).\n",
    "- Someone else listed 20000 which seems like a mistake.\n",
    "- Perhaps I can impute the proper value for a lot of these cars and allow the notRepairedDamage do the talking about whether the car is functioning or not."
   ]
  },
  {
   "cell_type": "code",
   "execution_count": 16,
   "metadata": {},
   "outputs": [
    {
     "data": {
      "text/html": [
       "<div>\n",
       "<style scoped>\n",
       "    .dataframe tbody tr th:only-of-type {\n",
       "        vertical-align: middle;\n",
       "    }\n",
       "\n",
       "    .dataframe tbody tr th {\n",
       "        vertical-align: top;\n",
       "    }\n",
       "\n",
       "    .dataframe thead th {\n",
       "        text-align: right;\n",
       "    }\n",
       "</style>\n",
       "<table border=\"1\" class=\"dataframe\">\n",
       "  <thead>\n",
       "    <tr style=\"text-align: right;\">\n",
       "      <th></th>\n",
       "      <th>dateCrawled</th>\n",
       "      <th>name</th>\n",
       "      <th>seller</th>\n",
       "      <th>offerType</th>\n",
       "      <th>price</th>\n",
       "      <th>abtest</th>\n",
       "      <th>vehicleType</th>\n",
       "      <th>yearOfRegistration</th>\n",
       "      <th>gearbox</th>\n",
       "      <th>powerPS</th>\n",
       "      <th>model</th>\n",
       "      <th>kilometer</th>\n",
       "      <th>monthOfRegistration</th>\n",
       "      <th>fuelType</th>\n",
       "      <th>brand</th>\n",
       "      <th>notRepairedDamage</th>\n",
       "      <th>dateCreated</th>\n",
       "      <th>nrOfPictures</th>\n",
       "      <th>postalCode</th>\n",
       "      <th>lastSeen</th>\n",
       "    </tr>\n",
       "  </thead>\n",
       "  <tbody>\n",
       "    <tr>\n",
       "      <th>230249</th>\n",
       "      <td>2016-03-09 15:43:53</td>\n",
       "      <td>Mercedes_CLK_430___8_Zylinder_</td>\n",
       "      <td>privat</td>\n",
       "      <td>Angebot</td>\n",
       "      <td>4300</td>\n",
       "      <td>control</td>\n",
       "      <td>coupe</td>\n",
       "      <td>1999</td>\n",
       "      <td>automatik</td>\n",
       "      <td>20000</td>\n",
       "      <td>clk</td>\n",
       "      <td>150000</td>\n",
       "      <td>1</td>\n",
       "      <td>benzin</td>\n",
       "      <td>mercedes_benz</td>\n",
       "      <td>nein</td>\n",
       "      <td>2016-03-09 00:00:00</td>\n",
       "      <td>0</td>\n",
       "      <td>19406</td>\n",
       "      <td>2016-03-30 08:47:08</td>\n",
       "    </tr>\n",
       "  </tbody>\n",
       "</table>\n",
       "</div>"
      ],
      "text/plain": [
       "                dateCrawled                            name  seller offerType  \\\n",
       "230249  2016-03-09 15:43:53  Mercedes_CLK_430___8_Zylinder_  privat   Angebot   \n",
       "\n",
       "        price   abtest vehicleType  yearOfRegistration    gearbox  powerPS  \\\n",
       "230249   4300  control       coupe                1999  automatik    20000   \n",
       "\n",
       "       model  kilometer  monthOfRegistration fuelType          brand  \\\n",
       "230249   clk     150000                    1   benzin  mercedes_benz   \n",
       "\n",
       "       notRepairedDamage          dateCreated  nrOfPictures  postalCode  \\\n",
       "230249              nein  2016-03-09 00:00:00             0       19406   \n",
       "\n",
       "                   lastSeen  \n",
       "230249  2016-03-30 08:47:08  "
      ]
     },
     "execution_count": 16,
     "metadata": {},
     "output_type": "execute_result"
    }
   ],
   "source": [
    "autos[autos.powerPS == 20000]"
   ]
  },
  {
   "cell_type": "code",
   "execution_count": 17,
   "metadata": {},
   "outputs": [
    {
     "data": {
      "text/plain": [
       "184.0"
      ]
     },
     "execution_count": 17,
     "metadata": {},
     "output_type": "execute_result"
    }
   ],
   "source": [
    "# I will impute missing or outrageous numbers using the model.\n",
    "# You can see this below after I have filled in as many of the missing models as I can.\n",
    "autos[autos.model == 'clk']['powerPS'].median()"
   ]
  },
  {
   "cell_type": "markdown",
   "metadata": {},
   "source": [
    "### model\n",
    "- Roughly 5% of postings do not include the model.\n",
    "- If I cannot impute the model for a given listing, it will have to be dropped because it is too important a feature.\n",
    "- It might be inferrable from the name of the posting.\n",
    "- There are 251 unique model names entered."
   ]
  },
  {
   "cell_type": "markdown",
   "metadata": {},
   "source": [
    "### kilometer"
   ]
  },
  {
   "cell_type": "code",
   "execution_count": 18,
   "metadata": {
    "scrolled": true
   },
   "outputs": [
    {
     "data": {
      "text/plain": [
       "(array([ 0,  1,  2,  3,  4,  5,  6,  7,  8,  9, 10, 11, 12]),\n",
       " <a list of 13 Text xticklabel objects>)"
      ]
     },
     "execution_count": 18,
     "metadata": {},
     "output_type": "execute_result"
    },
    {
     "data": {
      "image/png": "[encoded data removed]",
      "text/plain": [
       "<Figure size 432x288 with 1 Axes>"
      ]
     },
     "metadata": {},
     "output_type": "display_data"
    }
   ],
   "source": [
    "sns.countplot(autos.kilometer)\n",
    "plt.xticks(rotation=45)"
   ]
  },
  {
   "cell_type": "markdown",
   "metadata": {},
   "source": [
    "- Users could not enter a custom number as evidenced by there only being 13 categories.\n",
    "- The vast majority of cars on eBay are being sold with 150k+ kilometers. (93k+ miles)"
   ]
  },
  {
   "cell_type": "markdown",
   "metadata": {},
   "source": [
    "### monthOfRegistration"
   ]
  },
  {
   "cell_type": "code",
   "execution_count": 19,
   "metadata": {
    "scrolled": true
   },
   "outputs": [
    {
     "data": {
      "text/plain": [
       "0     37658\n",
       "3     36167\n",
       "6     33162\n",
       "4     30914\n",
       "5     30625\n",
       "7     28955\n",
       "10    27334\n",
       "11    25482\n",
       "12    25376\n",
       "9     25071\n",
       "1     24557\n",
       "8     23760\n",
       "2     22396\n",
       "Name: monthOfRegistration, dtype: int64"
      ]
     },
     "execution_count": 19,
     "metadata": {},
     "output_type": "execute_result"
    }
   ],
   "source": [
    "autos.monthOfRegistration.value_counts()"
   ]
  },
  {
   "cell_type": "markdown",
   "metadata": {},
   "source": [
    "- Quite a few of these cars were registered on the 0th month of the year.\n",
    "- Luckily, this category intuitively is not one of great predictive importance given that it has 13 months."
   ]
  },
  {
   "cell_type": "markdown",
   "metadata": {},
   "source": [
    "### fuelType"
   ]
  },
  {
   "cell_type": "code",
   "execution_count": 20,
   "metadata": {},
   "outputs": [
    {
     "data": {
      "text/plain": [
       "<matplotlib.axes._subplots.AxesSubplot at 0x11a992198>"
      ]
     },
     "execution_count": 20,
     "metadata": {},
     "output_type": "execute_result"
    },
    {
     "data": {
      "image/png": "[encoded data removed]",
      "text/plain": [
       "<Figure size 432x288 with 1 Axes>"
      ]
     },
     "metadata": {},
     "output_type": "display_data"
    }
   ],
   "source": [
    "sns.countplot(autos.fuelType)"
   ]
  },
  {
   "cell_type": "markdown",
   "metadata": {},
   "source": [
    "- Benzin is gasoline to Americans.\n",
    "- Gas and diesel dominate the postings.\n",
    "- We should be wary about the other types of cars because of the smaller sample size."
   ]
  },
  {
   "cell_type": "markdown",
   "metadata": {},
   "source": [
    "### brand"
   ]
  },
  {
   "cell_type": "code",
   "execution_count": 21,
   "metadata": {},
   "outputs": [
    {
     "data": {
      "text/plain": [
       "volkswagen        79621\n",
       "bmw               40272\n",
       "opel              40128\n",
       "mercedes_benz     35302\n",
       "audi              32871\n",
       "ford              25567\n",
       "renault           17967\n",
       "peugeot           11023\n",
       "fiat               9671\n",
       "seat               7021\n",
       "mazda              5692\n",
       "skoda              5640\n",
       "smart              5247\n",
       "citroen            5182\n",
       "nissan             5037\n",
       "toyota             4693\n",
       "sonstige_autos     3980\n",
       "hyundai            3645\n",
       "mini               3393\n",
       "volvo              3326\n",
       "mitsubishi         3061\n",
       "honda              2836\n",
       "kia                2554\n",
       "alfa_romeo         2345\n",
       "suzuki             2328\n",
       "porsche            2215\n",
       "chevrolet          1844\n",
       "chrysler           1451\n",
       "dacia               900\n",
       "jeep                807\n",
       "daihatsu            806\n",
       "subaru              779\n",
       "land_rover          770\n",
       "jaguar              621\n",
       "trabant             591\n",
       "daewoo              542\n",
       "saab                530\n",
       "rover               490\n",
       "lancia              484\n",
       "lada                225\n",
       "Name: brand, dtype: int64"
      ]
     },
     "execution_count": 21,
     "metadata": {},
     "output_type": "execute_result"
    }
   ],
   "source": [
    "autos.brand.value_counts()"
   ]
  },
  {
   "cell_type": "markdown",
   "metadata": {},
   "source": [
    "- There are 40 brands with at least 225 listings each.\n",
    "- Volkswagen has nearly twice the number of listings as the second most common brand."
   ]
  },
  {
   "cell_type": "markdown",
   "metadata": {},
   "source": [
    "### notRepairedDamage"
   ]
  },
  {
   "cell_type": "code",
   "execution_count": 22,
   "metadata": {},
   "outputs": [
    {
     "data": {
      "text/plain": [
       "nein    263139\n",
       "ja       36272\n",
       "Name: notRepairedDamage, dtype: int64"
      ]
     },
     "execution_count": 22,
     "metadata": {},
     "output_type": "execute_result"
    }
   ],
   "source": [
    "autos.notRepairedDamage.value_counts()"
   ]
  },
  {
   "cell_type": "markdown",
   "metadata": {},
   "source": [
    "- This category tells us whether the car is currently damaged.\n",
    "- 'nein' in this category could either mean the car was never damaged or that it has been repaired already."
   ]
  },
  {
   "cell_type": "markdown",
   "metadata": {},
   "source": [
    "### dateCreated\n",
    "- The listings were created on 114 unique dates."
   ]
  },
  {
   "cell_type": "markdown",
   "metadata": {},
   "source": [
    "###   nrOfPictures"
   ]
  },
  {
   "cell_type": "code",
   "execution_count": 23,
   "metadata": {},
   "outputs": [
    {
     "data": {
      "text/plain": [
       "0    371457\n",
       "Name: nrOfPictures, dtype: int64"
      ]
     },
     "execution_count": 23,
     "metadata": {},
     "output_type": "execute_result"
    }
   ],
   "source": [
    "autos.nrOfPictures.value_counts()"
   ]
  },
  {
   "cell_type": "markdown",
   "metadata": {},
   "source": [
    "- This variable tells us nothing useful for predicting as there is 0 variance."
   ]
  },
  {
   "cell_type": "markdown",
   "metadata": {},
   "source": [
    "### postalCode\n",
    "- There are 8150 unique items in this category.\n",
    "- It could be interesting to see if the same cars sell for more/less in different postal codes.\n",
    "- It could also be interesting if more expensive cars/different brands are more common in different neighborhoods.\n",
    "- However interesting, this is outside the scope of my project. I will drop this variable."
   ]
  },
  {
   "cell_type": "markdown",
   "metadata": {},
   "source": [
    "### lastSeen\n",
    "- This tells us when the crawler last saw the posting online.\n",
    "- I'm not interested in this."
   ]
  },
  {
   "cell_type": "markdown",
   "metadata": {},
   "source": [
    "### price"
   ]
  },
  {
   "cell_type": "code",
   "execution_count": 24,
   "metadata": {},
   "outputs": [
    {
     "data": {
      "text/plain": [
       "count    3.714570e+05\n",
       "mean     1.729780e+04\n",
       "std      3.588297e+06\n",
       "min      0.000000e+00\n",
       "25%      1.150000e+03\n",
       "50%      2.950000e+03\n",
       "75%      7.200000e+03\n",
       "max      2.147484e+09\n",
       "Name: price, dtype: float64"
      ]
     },
     "execution_count": 24,
     "metadata": {},
     "output_type": "execute_result"
    }
   ],
   "source": [
    "autos.price.describe()"
   ]
  },
  {
   "cell_type": "code",
   "execution_count": 25,
   "metadata": {},
   "outputs": [
    {
     "data": {
      "text/plain": [
       "10770"
      ]
     },
     "execution_count": 25,
     "metadata": {},
     "output_type": "execute_result"
    }
   ],
   "source": [
    "len(autos[autos.price == 0])"
   ]
  },
  {
   "cell_type": "markdown",
   "metadata": {},
   "source": [
    "- This is the outcome variable that we are trying to predict.\n",
    "- 10770 of these listings are 0. Another is over 2 million euros. Extreme prices will have to be tossed.\n"
   ]
  },
  {
   "cell_type": "markdown",
   "metadata": {},
   "source": [
    "## Variable by Variable Exploration Summary"
   ]
  },
  {
   "cell_type": "markdown",
   "metadata": {},
   "source": [
    "Many columns either have extremely low variance or are not relevant for my use-case and I will eliminate them now. They are:\n",
    "- seller\n",
    "- offerType\n",
    "- abtest\n",
    "- monthOfRegistration\n",
    "- nrOfPictures\n",
    "- lastSeen"
   ]
  },
  {
   "cell_type": "markdown",
   "metadata": {},
   "source": [
    "The following variables need to be cleaned up because my investigation found nonsensical/missing data:\n",
    "- vehicleType\n",
    "- yearOfRegistration\n",
    "- powerPS\n",
    "- model\n",
    "- price"
   ]
  },
  {
   "cell_type": "code",
   "execution_count": 26,
   "metadata": {},
   "outputs": [],
   "source": [
    "# Dropping irrelevant/low variance columns\n",
    "autos = autos[autos.seller == 'privat']\n",
    "autos = autos[autos.offerType == 'Angebot']\n",
    "autos = autos.drop(columns=['abtest', 'monthOfRegistration', 'nrOfPictures', 'lastSeen', 'seller', 'offerType'])"
   ]
  },
  {
   "cell_type": "code",
   "execution_count": 27,
   "metadata": {},
   "outputs": [],
   "source": [
    "# Dropping ridiculous prices\n",
    "autos = autos[autos.price < 200000]\n",
    "autos = autos[autos.price > 50]"
   ]
  },
  {
   "cell_type": "markdown",
   "metadata": {},
   "source": [
    "### Missing Models"
   ]
  },
  {
   "cell_type": "code",
   "execution_count": 28,
   "metadata": {},
   "outputs": [
    {
     "name": "stdout",
     "output_type": "stream",
     "text": [
      "Before imputation, there are 17830 missing models\n",
      "After imputation, there are 10186 missing models\n"
     ]
    }
   ],
   "source": [
    "print(\"Before imputation, there are {} missing models\".format(len(autos[autos.model.isna()])))\n",
    "\n",
    "# Creating a dictionary that has \"brand\" : \"list of models for that brand\" as the entries\n",
    "brand_models = {}\n",
    "for brand in autos.brand.unique():\n",
    "    brand_models[brand] = list(autos[autos.brand == brand]['model'].dropna().unique())\n",
    "\n",
    "    \n",
    "def impute_model(brand, name):\n",
    "    '''Takes info from brand and name column and (if it exists) tells us the name of the model from that brand that appears in the name.'''\n",
    "    for i in brand_models[brand]:\n",
    "        if i in name.lower():\n",
    "            return i\n",
    "\n",
    "# Here I apply the impute_model function to my dataframe to reduce the missing models.\n",
    "for i in range(len(autos)):\n",
    "    try:\n",
    "        if type(autos.loc[i, 'model']) == float:\n",
    "            autos.loc[i, 'model'] = impute_model(autos.loc[i, 'brand'], autos.loc[i, 'name'])\n",
    "    except KeyError: pass\n",
    "    \n",
    "print(\"After imputation, there are {} missing models\".format(len(autos[autos.model.isna()])))"
   ]
  },
  {
   "cell_type": "markdown",
   "metadata": {},
   "source": [
    "I'm happy with that. The model of a car is so crucial to estimating its price that I will be dropping the model-less listings now. I also removed several useless columns and got rid of the listings with unreasonably high or low prices."
   ]
  },
  {
   "cell_type": "code",
   "execution_count": 29,
   "metadata": {},
   "outputs": [],
   "source": [
    "autos = autos.dropna(subset=['model'])"
   ]
  },
  {
   "cell_type": "code",
   "execution_count": 30,
   "metadata": {},
   "outputs": [
    {
     "data": {
      "text/html": [
       "<div>\n",
       "<style scoped>\n",
       "    .dataframe tbody tr th:only-of-type {\n",
       "        vertical-align: middle;\n",
       "    }\n",
       "\n",
       "    .dataframe tbody tr th {\n",
       "        vertical-align: top;\n",
       "    }\n",
       "\n",
       "    .dataframe thead th {\n",
       "        text-align: right;\n",
       "    }\n",
       "</style>\n",
       "<table border=\"1\" class=\"dataframe\">\n",
       "  <thead>\n",
       "    <tr style=\"text-align: right;\">\n",
       "      <th></th>\n",
       "      <th>dateCrawled</th>\n",
       "      <th>name</th>\n",
       "      <th>price</th>\n",
       "      <th>vehicleType</th>\n",
       "      <th>yearOfRegistration</th>\n",
       "      <th>gearbox</th>\n",
       "      <th>powerPS</th>\n",
       "      <th>model</th>\n",
       "      <th>kilometer</th>\n",
       "      <th>fuelType</th>\n",
       "      <th>brand</th>\n",
       "      <th>notRepairedDamage</th>\n",
       "      <th>dateCreated</th>\n",
       "      <th>postalCode</th>\n",
       "    </tr>\n",
       "  </thead>\n",
       "  <tbody>\n",
       "    <tr>\n",
       "      <th>0</th>\n",
       "      <td>2016-03-24 11:52:17</td>\n",
       "      <td>Golf_3_1.6</td>\n",
       "      <td>480</td>\n",
       "      <td>NaN</td>\n",
       "      <td>1993</td>\n",
       "      <td>manuell</td>\n",
       "      <td>0</td>\n",
       "      <td>golf</td>\n",
       "      <td>150000</td>\n",
       "      <td>benzin</td>\n",
       "      <td>volkswagen</td>\n",
       "      <td>NaN</td>\n",
       "      <td>2016-03-24 00:00:00</td>\n",
       "      <td>70435</td>\n",
       "    </tr>\n",
       "    <tr>\n",
       "      <th>1</th>\n",
       "      <td>2016-03-24 10:58:45</td>\n",
       "      <td>A5_Sportback_2.7_Tdi</td>\n",
       "      <td>18300</td>\n",
       "      <td>coupe</td>\n",
       "      <td>2011</td>\n",
       "      <td>manuell</td>\n",
       "      <td>190</td>\n",
       "      <td>a5</td>\n",
       "      <td>125000</td>\n",
       "      <td>diesel</td>\n",
       "      <td>audi</td>\n",
       "      <td>ja</td>\n",
       "      <td>2016-03-24 00:00:00</td>\n",
       "      <td>66954</td>\n",
       "    </tr>\n",
       "    <tr>\n",
       "      <th>2</th>\n",
       "      <td>2016-03-14 12:52:21</td>\n",
       "      <td>Jeep_Grand_Cherokee_\"Overland\"</td>\n",
       "      <td>9800</td>\n",
       "      <td>suv</td>\n",
       "      <td>2004</td>\n",
       "      <td>automatik</td>\n",
       "      <td>163</td>\n",
       "      <td>grand</td>\n",
       "      <td>125000</td>\n",
       "      <td>diesel</td>\n",
       "      <td>jeep</td>\n",
       "      <td>NaN</td>\n",
       "      <td>2016-03-14 00:00:00</td>\n",
       "      <td>90480</td>\n",
       "    </tr>\n",
       "    <tr>\n",
       "      <th>3</th>\n",
       "      <td>2016-03-17 16:54:04</td>\n",
       "      <td>GOLF_4_1_4__3T�RER</td>\n",
       "      <td>1500</td>\n",
       "      <td>kleinwagen</td>\n",
       "      <td>2001</td>\n",
       "      <td>manuell</td>\n",
       "      <td>75</td>\n",
       "      <td>golf</td>\n",
       "      <td>150000</td>\n",
       "      <td>benzin</td>\n",
       "      <td>volkswagen</td>\n",
       "      <td>nein</td>\n",
       "      <td>2016-03-17 00:00:00</td>\n",
       "      <td>91074</td>\n",
       "    </tr>\n",
       "    <tr>\n",
       "      <th>4</th>\n",
       "      <td>2016-03-31 17:25:20</td>\n",
       "      <td>Skoda_Fabia_1.4_TDI_PD_Classic</td>\n",
       "      <td>3600</td>\n",
       "      <td>kleinwagen</td>\n",
       "      <td>2008</td>\n",
       "      <td>manuell</td>\n",
       "      <td>69</td>\n",
       "      <td>fabia</td>\n",
       "      <td>90000</td>\n",
       "      <td>diesel</td>\n",
       "      <td>skoda</td>\n",
       "      <td>nein</td>\n",
       "      <td>2016-03-31 00:00:00</td>\n",
       "      <td>60437</td>\n",
       "    </tr>\n",
       "  </tbody>\n",
       "</table>\n",
       "</div>"
      ],
      "text/plain": [
       "           dateCrawled                            name  price vehicleType  \\\n",
       "0  2016-03-24 11:52:17                      Golf_3_1.6    480         NaN   \n",
       "1  2016-03-24 10:58:45            A5_Sportback_2.7_Tdi  18300       coupe   \n",
       "2  2016-03-14 12:52:21  Jeep_Grand_Cherokee_\"Overland\"   9800         suv   \n",
       "3  2016-03-17 16:54:04              GOLF_4_1_4__3T�RER   1500  kleinwagen   \n",
       "4  2016-03-31 17:25:20  Skoda_Fabia_1.4_TDI_PD_Classic   3600  kleinwagen   \n",
       "\n",
       "   yearOfRegistration    gearbox  powerPS  model  kilometer fuelType  \\\n",
       "0                1993    manuell        0   golf     150000   benzin   \n",
       "1                2011    manuell      190     a5     125000   diesel   \n",
       "2                2004  automatik      163  grand     125000   diesel   \n",
       "3                2001    manuell       75   golf     150000   benzin   \n",
       "4                2008    manuell       69  fabia      90000   diesel   \n",
       "\n",
       "        brand notRepairedDamage          dateCreated  postalCode  \n",
       "0  volkswagen               NaN  2016-03-24 00:00:00       70435  \n",
       "1        audi                ja  2016-03-24 00:00:00       66954  \n",
       "2        jeep               NaN  2016-03-14 00:00:00       90480  \n",
       "3  volkswagen              nein  2016-03-17 00:00:00       91074  \n",
       "4       skoda              nein  2016-03-31 00:00:00       60437  "
      ]
     },
     "execution_count": 30,
     "metadata": {},
     "output_type": "execute_result"
    }
   ],
   "source": [
    "autos.head()"
   ]
  },
  {
   "cell_type": "markdown",
   "metadata": {},
   "source": [
    "### Missing vehicleTypes"
   ]
  },
  {
   "cell_type": "code",
   "execution_count": 31,
   "metadata": {},
   "outputs": [
    {
     "name": "stdout",
     "output_type": "stream",
     "text": [
      "Before imputation, there are 30227 missing vehicleTypes\n"
     ]
    }
   ],
   "source": [
    "print(\"Before imputation, there are {} missing vehicleTypes\".format(len(autos[autos.vehicleType.isna()])))"
   ]
  },
  {
   "cell_type": "markdown",
   "metadata": {},
   "source": [
    "I will attempt to fill this in using the model of the car. Some models come in different vehicle types as evidenced by the different vehicle types for the Volkswagen Golf:"
   ]
  },
  {
   "cell_type": "code",
   "execution_count": 32,
   "metadata": {},
   "outputs": [
    {
     "data": {
      "text/plain": [
       "limousine     15304\n",
       "kleinwagen     3964\n",
       "kombi          3280\n",
       "cabrio         2027\n",
       "bus             798\n",
       "coupe           430\n",
       "andere          190\n",
       "suv              26\n",
       "Name: vehicleType, dtype: int64"
      ]
     },
     "execution_count": 32,
     "metadata": {},
     "output_type": "execute_result"
    }
   ],
   "source": [
    "autos[autos.model == 'golf']['vehicleType'].value_counts()"
   ]
  },
  {
   "cell_type": "code",
   "execution_count": 33,
   "metadata": {},
   "outputs": [],
   "source": [
    "# Creating a dictionary that can be seen in the next cell\n",
    "missing_vehicle_type = list(autos[autos.vehicleType.isna()]['model'].unique())\n",
    "\n",
    "model_type_percentage = {}\n",
    "for model in missing_vehicle_type:\n",
    "    model_type_percentage[model] = (autos[autos.model == model]['vehicleType'].value_counts().idxmax(), (autos[autos.model == model]['vehicleType'].value_counts().max())/len(autos[autos.model == model]))"
   ]
  },
  {
   "cell_type": "code",
   "execution_count": 34,
   "metadata": {},
   "outputs": [
    {
     "data": {
      "text/plain": [
       "{'100': ('limousine', 0.6634382566585957),\n",
       " '145': ('kleinwagen', 0.40816326530612246),\n",
       " '147': ('limousine', 0.6213921901528013),\n",
       " '156': ('kombi', 0.46774193548387094),\n",
       " '159': ('kombi', 0.6919431279620853),\n",
       " '1_reihe': ('kleinwagen', 0.8390166534496432),\n",
       " '1er': ('limousine', 0.7298640167364017),\n",
       " '200': ('limousine', 0.8421052631578947),\n",
       " '2_reihe': ('kleinwagen', 0.5215744053883393),\n",
       " '300c': ('kombi', 0.4965034965034965),\n",
       " '3_reihe': ('limousine', 0.4098888238736103),\n",
       " '3er': ('limousine', 0.40734230614704703),\n",
       " '4_reihe': ('kombi', 0.4718196457326892),\n",
       " '500': ('kleinwagen', 0.6572972972972972),\n",
       " '5_reihe': ('bus', 0.7494356659142212),\n",
       " '5er': ('limousine', 0.5761262346422549),\n",
       " '601': ('limousine', 0.4253164556962025),\n",
       " '6_reihe': ('kombi', 0.5098502758077226),\n",
       " '6er': ('coupe', 0.6081632653061224),\n",
       " '7er': ('limousine', 0.9339366515837104),\n",
       " '80': ('limousine', 0.6266499057196732),\n",
       " '850': ('kombi', 0.861244019138756),\n",
       " '90': ('limousine', 0.7628865979381443),\n",
       " '900': ('cabrio', 0.35344827586206895),\n",
       " '9000': ('limousine', 0.7857142857142857),\n",
       " '911': ('coupe', 0.5289532293986637),\n",
       " 'a1': ('kleinwagen', 0.8812199036918138),\n",
       " 'a2': ('kleinwagen', 0.7837837837837838),\n",
       " 'a3': ('limousine', 0.46788024672784717),\n",
       " 'a4': ('kombi', 0.5421815704972268),\n",
       " 'a5': ('coupe', 0.682261208576998),\n",
       " 'a6': ('kombi', 0.6149849145155883),\n",
       " 'a8': ('limousine', 0.9320882852292021),\n",
       " 'a_klasse': ('limousine', 0.6296900489396411),\n",
       " 'accord': ('limousine', 0.6340057636887608),\n",
       " 'agila': ('kleinwagen', 0.7669683257918553),\n",
       " 'alhambra': ('bus', 0.9057071960297767),\n",
       " 'almera': ('limousine', 0.4075993091537133),\n",
       " 'altea': ('bus', 0.7158176943699732),\n",
       " 'amarok': ('suv', 0.9230769230769231),\n",
       " 'andere': ('limousine', 0.21705365547536867),\n",
       " 'antara': ('suv', 0.7614678899082569),\n",
       " 'arosa': ('kleinwagen', 0.8601321585903083),\n",
       " 'astra': ('limousine', 0.35058107360265633),\n",
       " 'auris': ('limousine', 0.8008298755186722),\n",
       " 'avensis': ('kombi', 0.689594356261023),\n",
       " 'aveo': ('kleinwagen', 0.7142857142857143),\n",
       " 'aygo': ('kleinwagen', 0.8868360277136259),\n",
       " 'b_klasse': ('bus', 0.7110874200426439),\n",
       " 'b_max': ('bus', 0.9615384615384616),\n",
       " 'beetle': ('limousine', 0.35294117647058826),\n",
       " 'berlingo': ('bus', 0.6605616605616605),\n",
       " 'bora': ('limousine', 0.5769230769230769),\n",
       " 'boxster': ('cabrio', 0.9825870646766169),\n",
       " 'bravo': ('limousine', 0.5506329113924051),\n",
       " 'c1': ('kleinwagen', 0.9260204081632653),\n",
       " 'c2': ('kleinwagen', 0.8705583756345178),\n",
       " 'c3': ('kleinwagen', 0.6233009708737864),\n",
       " 'c4': ('limousine', 0.36444444444444446),\n",
       " 'c5': ('kombi', 0.6201232032854209),\n",
       " 'c_klasse': ('limousine', 0.4942156409069875),\n",
       " 'c_max': ('bus', 0.7372159090909091),\n",
       " 'c_reihe': ('cabrio', 0.39593908629441626),\n",
       " 'caddy': ('kombi', 0.397583081570997),\n",
       " 'calibra': ('coupe', 0.7236180904522613),\n",
       " 'captiva': ('suv', 0.976878612716763),\n",
       " 'carisma': ('limousine', 0.9073170731707317),\n",
       " 'carnival': ('bus', 0.8492647058823529),\n",
       " 'cayenne': ('suv', 0.9634146341463414),\n",
       " 'cc': ('coupe', 0.671875),\n",
       " 'ceed': ('limousine', 0.6511627906976745),\n",
       " 'charade': ('kleinwagen', 0.6296296296296297),\n",
       " 'cherokee': ('suv', 0.8926553672316384),\n",
       " 'citigo': ('kleinwagen', 0.9456521739130435),\n",
       " 'civic': ('limousine', 0.4973821989528796),\n",
       " 'cl': ('coupe', 0.7560321715817694),\n",
       " 'clio': ('kleinwagen', 0.8103254769921436),\n",
       " 'clk': ('coupe', 0.657080846446012),\n",
       " 'clubman': ('kombi', 0.5980392156862745),\n",
       " 'colt': ('limousine', 0.39677047289504036),\n",
       " 'combo': ('bus', 0.4282238442822384),\n",
       " 'cooper': ('kleinwagen', 0.5464788732394367),\n",
       " 'cordoba': ('kombi', 0.361323155216285),\n",
       " 'corolla': ('limousine', 0.5326704545454546),\n",
       " 'corsa': ('kleinwagen', 0.8350409022317529),\n",
       " 'cr_reihe': ('suv', 0.4808259587020649),\n",
       " 'croma': ('kombi', 0.7111111111111111),\n",
       " 'crossfire': ('coupe', 0.5507246376811594),\n",
       " 'cuore': ('kleinwagen', 0.8653846153846154),\n",
       " 'cx_reihe': ('suv', 0.9401709401709402),\n",
       " 'defender': ('suv', 0.950354609929078),\n",
       " 'delta': ('limousine', 0.525),\n",
       " 'doblo': ('bus', 0.6697247706422018),\n",
       " 'ducato': ('bus', 0.6226851851851852),\n",
       " 'duster': ('suv', 0.9609756097560975),\n",
       " 'e_klasse': ('limousine', 0.5186238656372748),\n",
       " 'elefantino': ('kleinwagen', 0.5714285714285714),\n",
       " 'eos': ('cabrio', 0.9702602230483272),\n",
       " 'escort': ('limousine', 0.27102803738317754),\n",
       " 'espace': ('bus', 0.8177257525083612),\n",
       " 'exeo': ('kombi', 0.85),\n",
       " 'fabia': ('kleinwagen', 0.4444444444444444),\n",
       " 'fiesta': ('kleinwagen', 0.8249827228749136),\n",
       " 'focus': ('kombi', 0.466071729247348),\n",
       " 'forester': ('kombi', 0.6015037593984962),\n",
       " 'forfour': ('kleinwagen', 0.8207792207792208),\n",
       " 'fortwo': ('kleinwagen', 0.6444085027726433),\n",
       " 'fox': ('kleinwagen', 0.8783422459893048),\n",
       " 'freelander': ('suv', 0.9144144144144144),\n",
       " 'fusion': ('kleinwagen', 0.7006578947368421),\n",
       " 'g_klasse': ('suv', 0.888235294117647),\n",
       " 'galant': ('limousine', 0.47410358565737054),\n",
       " 'galaxy': ('bus', 0.825491873396065),\n",
       " 'getz': ('kleinwagen', 0.859122401847575),\n",
       " 'gl': ('suv', 0.855072463768116),\n",
       " 'glk': ('suv', 0.9601769911504425),\n",
       " 'golf': ('limousine', 0.5084554304129705),\n",
       " 'grand': ('suv', 0.7739837398373983),\n",
       " 'i3': ('limousine', 0.45454545454545453),\n",
       " 'i_reihe': ('kleinwagen', 0.36698717948717946),\n",
       " 'ibiza': ('kleinwagen', 0.762453531598513),\n",
       " 'impreza': ('limousine', 0.6103896103896104),\n",
       " 'insignia': ('kombi', 0.6008522727272727),\n",
       " 'jazz': ('kleinwagen', 0.8225806451612904),\n",
       " 'jetta': ('limousine', 0.8402203856749312),\n",
       " 'jimny': ('suv', 0.9045454545454545),\n",
       " 'juke': ('kleinwagen', 0.6153846153846154),\n",
       " 'justy': ('kleinwagen', 0.7591240875912408),\n",
       " 'ka': ('kleinwagen', 0.7727601156069365),\n",
       " 'kadett': ('limousine', 0.38),\n",
       " 'kaefer': ('cabrio', 0.2737306843267108),\n",
       " 'kalina': ('limousine', 0.3333333333333333),\n",
       " 'kalos': ('kleinwagen', 0.8367346938775511),\n",
       " 'kangoo': ('bus', 0.5767634854771784),\n",
       " 'kappa': ('limousine', 0.625),\n",
       " 'kuga': ('suv', 0.961340206185567),\n",
       " 'laguna': ('kombi', 0.5859778597785977),\n",
       " 'lancer': ('limousine', 0.5523012552301255),\n",
       " 'lanos': ('limousine', 0.3522727272727273),\n",
       " 'legacy': ('kombi', 0.8074534161490683),\n",
       " 'leon': ('limousine', 0.8223350253807107),\n",
       " 'logan': ('kombi', 0.7244582043343654),\n",
       " 'lupo': ('kleinwagen', 0.8685909608811242),\n",
       " 'lybra': ('kombi', 0.66),\n",
       " 'm_klasse': ('suv', 0.9645390070921985),\n",
       " 'm_reihe': ('coupe', 0.42151162790697677),\n",
       " 'matiz': ('kleinwagen', 0.8672566371681416),\n",
       " 'megane': ('limousine', 0.27206393328700484),\n",
       " 'meriva': ('bus', 0.7507082152974505),\n",
       " 'micra': ('kleinwagen', 0.8249291784702549),\n",
       " 'mii': ('kleinwagen', 0.9146341463414634),\n",
       " 'modus': ('bus', 0.5375),\n",
       " 'mondeo': ('kombi', 0.6522346368715084),\n",
       " 'move': ('kleinwagen', 0.34615384615384615),\n",
       " 'musa': ('bus', 0.6086956521739131),\n",
       " 'mustang': ('coupe', 0.6642857142857143),\n",
       " 'mx_reihe': ('cabrio', 0.9106425702811245),\n",
       " 'navara': ('suv', 0.9043478260869565),\n",
       " 'niva': ('suv', 0.8931297709923665),\n",
       " 'note': ('bus', 0.7076923076923077),\n",
       " 'nubira': ('kombi', 0.5079365079365079),\n",
       " 'octavia': ('kombi', 0.7319071461083295),\n",
       " 'omega': ('kombi', 0.4713467048710602),\n",
       " 'one': ('kleinwagen', 0.7097130242825607),\n",
       " 'outlander': ('suv', 0.4961832061068702),\n",
       " 'pajero': ('suv', 0.9348837209302325),\n",
       " 'panda': ('kleinwagen', 0.8609077598828697),\n",
       " 'passat': ('kombi', 0.7067676473444023),\n",
       " 'phaeton': ('limousine', 0.9517543859649122),\n",
       " 'picanto': ('kleinwagen', 0.9056603773584906),\n",
       " 'polo': ('kleinwagen', 0.7874638673360718),\n",
       " 'primera': ('limousine', 0.49589490968801314),\n",
       " 'ptcruiser': ('kombi', 0.5322033898305085),\n",
       " 'punto': ('kleinwagen', 0.7605925925925926),\n",
       " 'q3': ('limousine', 0.6050420168067226),\n",
       " 'q5': ('limousine', 0.5567928730512249),\n",
       " 'q7': ('limousine', 0.5100864553314121),\n",
       " 'qashqai': ('limousine', 0.5163043478260869),\n",
       " 'r19': ('limousine', 0.4424778761061947),\n",
       " 'range_rover': ('suv', 0.9468085106382979),\n",
       " 'rangerover': ('suv', 0.5),\n",
       " 'rav': ('suv', 0.9505494505494505),\n",
       " 'rio': ('kleinwagen', 0.5247252747252747),\n",
       " 'roadster': ('cabrio', 0.8342541436464088),\n",
       " 'roomster': ('bus', 0.7562724014336918),\n",
       " 'rx_reihe': ('coupe', 0.8333333333333334),\n",
       " 's60': ('limousine', 0.9801324503311258),\n",
       " 's_klasse': ('limousine', 0.8985074626865671),\n",
       " 's_max': ('bus', 0.9369565217391305),\n",
       " 's_type': ('limousine', 0.976),\n",
       " 'samara': ('limousine', 0.3333333333333333),\n",
       " 'sandero': ('kleinwagen', 0.7372013651877133),\n",
       " 'santa': ('suv', 0.939209726443769),\n",
       " 'scenic': ('bus', 0.7045454545454546),\n",
       " 'scirocco': ('coupe', 0.9036334913112164),\n",
       " 'seicento': ('kleinwagen', 0.8616541353383459),\n",
       " 'serie_2': ('andere', 0.375),\n",
       " 'sharan': ('bus', 0.783678756476684),\n",
       " 'signum': ('kombi', 0.8189134808853119),\n",
       " 'sirion': ('kleinwagen', 0.841726618705036),\n",
       " 'sl': ('cabrio', 0.9086826347305389),\n",
       " 'slk': ('cabrio', 0.9676491732566499),\n",
       " 'sorento': ('suv', 0.9476584022038568),\n",
       " 'spark': ('kleinwagen', 0.9274193548387096),\n",
       " 'spider': ('cabrio', 0.9408866995073891),\n",
       " 'sportage': ('suv', 0.9487179487179487),\n",
       " 'sprinter': ('bus', 0.6279949558638083),\n",
       " 'stilo': ('limousine', 0.4707846410684474),\n",
       " 'superb': ('limousine', 0.48883374689826303),\n",
       " 'swift': ('kleinwagen', 0.8237762237762237),\n",
       " 'tigra': ('cabrio', 0.5064432989690721),\n",
       " 'tiguan': ('suv', 0.9500542888165038),\n",
       " 'toledo': ('limousine', 0.7844311377245509),\n",
       " 'touareg': ('suv', 0.9432432432432433),\n",
       " 'touran': ('bus', 0.7704455724760293),\n",
       " 'transit': ('bus', 0.6832460732984293),\n",
       " 'transporter': ('bus', 0.8615384615384616),\n",
       " 'tt': ('coupe', 0.527449617790132),\n",
       " 'tucson': ('suv', 0.9369747899159664),\n",
       " 'twingo': ('kleinwagen', 0.8431135309538214),\n",
       " 'up': ('kleinwagen', 0.9013698630136986),\n",
       " 'v40': ('kombi', 0.881578947368421),\n",
       " 'v50': ('kombi', 0.9488188976377953),\n",
       " 'v60': ('kombi', 0.9166666666666666),\n",
       " 'v70': ('kombi', 0.9642301710730948),\n",
       " 'v_klasse': ('bus', 0.9197530864197531),\n",
       " 'vectra': ('limousine', 0.5088715400993612),\n",
       " 'verso': ('bus', 0.8690095846645367),\n",
       " 'viano': ('bus', 0.9382422802850356),\n",
       " 'vito': ('bus', 0.7857923497267759),\n",
       " 'vivaro': ('bus', 0.8181818181818182),\n",
       " 'voyager': ('bus', 0.8703703703703703),\n",
       " 'wrangler': ('suv', 0.9393939393939394),\n",
       " 'x_reihe': ('limousine', 0.5085413929040736),\n",
       " 'x_trail': ('suv', 0.9579439252336449),\n",
       " 'x_type': ('limousine', 0.7176470588235294),\n",
       " 'xc_reihe': ('suv', 0.827893175074184),\n",
       " 'yaris': ('kleinwagen', 0.8545279383429673),\n",
       " 'yeti': ('suv', 0.9698492462311558),\n",
       " 'ypsilon': ('kleinwagen', 0.8706467661691543),\n",
       " 'z_reihe': ('cabrio', 0.8996579247434435),\n",
       " 'zafira': ('bus', 0.7903488751222694)}"
      ]
     },
     "execution_count": 34,
     "metadata": {},
     "output_type": "execute_result"
    }
   ],
   "source": [
    "# Tells me, e.g., the model '100' is listed as a limousine 66.3 percent of the time.\n",
    "model_type_percentage"
   ]
  },
  {
   "cell_type": "markdown",
   "metadata": {},
   "source": [
    "I will use the most common model to impute the missing vehicleTypes."
   ]
  },
  {
   "cell_type": "code",
   "execution_count": 35,
   "metadata": {},
   "outputs": [],
   "source": [
    "# Same as the dictionary above but not including the percentages\n",
    "model_type = {}\n",
    "for model in missing_vehicle_type:\n",
    "    model_type[model] = (autos[autos.model == model]['vehicleType'].value_counts().idxmax())"
   ]
  },
  {
   "cell_type": "code",
   "execution_count": 36,
   "metadata": {},
   "outputs": [],
   "source": [
    "# vt_fill is only used in this cell so that I can quickly fill in the vehicleType column using fillna\n",
    "vt_fill = autos.model.map(model_type)\n",
    "autos.vehicleType = autos.vehicleType.fillna(vt_fill)"
   ]
  },
  {
   "cell_type": "code",
   "execution_count": 37,
   "metadata": {},
   "outputs": [
    {
     "name": "stdout",
     "output_type": "stream",
     "text": [
      "After imputation, there are 0 missing vehicleTypes\n"
     ]
    }
   ],
   "source": [
    "print(\"After imputation, there are {} missing vehicleTypes\".format(len(autos[autos.vehicleType.isna()])))"
   ]
  },
  {
   "cell_type": "markdown",
   "metadata": {},
   "source": [
    "### Zero or Outrageous powerPS"
   ]
  },
  {
   "cell_type": "markdown",
   "metadata": {},
   "source": [
    "I will fill in the silly values with the median horsepower for that model."
   ]
  },
  {
   "cell_type": "code",
   "execution_count": 38,
   "metadata": {},
   "outputs": [],
   "source": [
    "# Dictionary of every model and the median horsepower for that model\n",
    "# The whole point is to correct outliers, so I will use median instead of mean.\n",
    "model_powerPS = {}\n",
    "for model in autos.model.unique():\n",
    "    model_powerPS[model] = autos[autos.model == model][\"powerPS\"].median()"
   ]
  },
  {
   "cell_type": "code",
   "execution_count": 39,
   "metadata": {},
   "outputs": [],
   "source": [
    "# I will be using fillna down the line, so I want to first mark the silly values with None.\n",
    "autos.powerPS = autos.powerPS.where(autos.powerPS > 10, None)\n",
    "autos.powerPS = autos.powerPS.where(autos.powerPS < 5000, None)"
   ]
  },
  {
   "cell_type": "code",
   "execution_count": 40,
   "metadata": {},
   "outputs": [
    {
     "data": {
      "text/plain": [
       "33030"
      ]
     },
     "execution_count": 40,
     "metadata": {},
     "output_type": "execute_result"
    }
   ],
   "source": [
    "len(autos[autos.powerPS.isna()])"
   ]
  },
  {
   "cell_type": "code",
   "execution_count": 41,
   "metadata": {},
   "outputs": [],
   "source": [
    "ps_fill = autos.model.map(model_powerPS)\n",
    "autos.powerPS = autos.powerPS.fillna(ps_fill)"
   ]
  },
  {
   "cell_type": "code",
   "execution_count": 42,
   "metadata": {},
   "outputs": [
    {
     "data": {
      "text/plain": [
       "0"
      ]
     },
     "execution_count": 42,
     "metadata": {},
     "output_type": "execute_result"
    }
   ],
   "source": [
    "len(autos[autos.powerPS.isna()])"
   ]
  },
  {
   "cell_type": "code",
   "execution_count": 43,
   "metadata": {},
   "outputs": [
    {
     "data": {
      "text/plain": [
       "count    348343.000000\n",
       "mean        124.676107\n",
       "std          71.695772\n",
       "min           0.000000\n",
       "25%          77.000000\n",
       "50%         114.000000\n",
       "75%         150.000000\n",
       "max        4700.000000\n",
       "Name: powerPS, dtype: float64"
      ]
     },
     "execution_count": 43,
     "metadata": {},
     "output_type": "execute_result"
    }
   ],
   "source": [
    "autos.powerPS.describe()"
   ]
  },
  {
   "cell_type": "markdown",
   "metadata": {},
   "source": [
    "### Silly yearOfRegistration"
   ]
  },
  {
   "cell_type": "code",
   "execution_count": 44,
   "metadata": {},
   "outputs": [
    {
     "name": "stdout",
     "output_type": "stream",
     "text": [
      "123\n"
     ]
    }
   ],
   "source": [
    "print(len(autos[autos.yearOfRegistration < 1930])+len(autos[autos.yearOfRegistration > 2019]))"
   ]
  },
  {
   "cell_type": "code",
   "execution_count": 45,
   "metadata": {},
   "outputs": [],
   "source": [
    "def remove_silly_years(year):\n",
    "    if year > 2019:\n",
    "        return None\n",
    "    elif year < 1930:\n",
    "        return None\n",
    "    else:\n",
    "        return year"
   ]
  },
  {
   "cell_type": "code",
   "execution_count": 46,
   "metadata": {},
   "outputs": [],
   "source": [
    "# Replacing the silly years with None\n",
    "autos['yearOfRegistration'] = autos['yearOfRegistration'].apply(lambda x: remove_silly_years(x))\n",
    "\n",
    "# Dropping all the silly years from the dataset\n",
    "autos = autos.dropna(subset=['yearOfRegistration'])\n",
    "\n",
    "# Creating a more useful column that represents how old the car is rather than the year it was made.\n",
    "autos['age'] = 2018 - autos.yearOfRegistration"
   ]
  },
  {
   "cell_type": "code",
   "execution_count": 47,
   "metadata": {},
   "outputs": [
    {
     "name": "stderr",
     "output_type": "stream",
     "text": [
      "/Library/Frameworks/Python.framework/Versions/3.6/lib/python3.6/site-packages/scipy/stats/stats.py:1713: FutureWarning: Using a non-tuple sequence for multidimensional indexing is deprecated; use `arr[tuple(seq)]` instead of `arr[seq]`. In the future this will be interpreted as an array index, `arr[np.array(seq)]`, which will result either in an error or a different result.\n",
      "  return np.add.reduce(sorted[indexer] * weights, axis=axis) / sumval\n"
     ]
    },
    {
     "data": {
      "text/plain": [
       "Text(0.5,0,'age of car')"
      ]
     },
     "execution_count": 47,
     "metadata": {},
     "output_type": "execute_result"
    },
    {
     "data": {
      "image/png": "[encoded data removed]",
      "text/plain": [
       "<Figure size 864x432 with 2 Axes>"
      ]
     },
     "metadata": {},
     "output_type": "display_data"
    }
   ],
   "source": [
    "plt.figure(figsize=(12,6))\n",
    "plt.subplot(1,2,1)\n",
    "sns.distplot(autos.yearOfRegistration.dropna())\n",
    "plt.title(\"Distribution of yearOfRegistration\")\n",
    "\n",
    "plt.subplot(1,2,2)\n",
    "plt.title('Impact of Age on Price')\n",
    "sns.scatterplot(autos.age, autos.price)\n",
    "plt.xlabel('age of car')"
   ]
  },
  {
   "cell_type": "markdown",
   "metadata": {},
   "source": [
    "### Round 2 of exploration and cleaning\n",
    "Before imputing any of the remaining missing values, I would like to investigate how those variables impact the outcome of interest. I do that below with plots."
   ]
  },
  {
   "cell_type": "code",
   "execution_count": 48,
   "metadata": {},
   "outputs": [
    {
     "name": "stdout",
     "output_type": "stream",
     "text": [
      "dateCrawled 0\n",
      "name 0\n",
      "price 0\n",
      "vehicleType 0\n",
      "yearOfRegistration 0\n",
      "gearbox 14942\n",
      "powerPS 0\n",
      "model 0\n",
      "kilometer 0\n",
      "fuelType 25780\n",
      "brand 0\n",
      "notRepairedDamage 61352\n",
      "dateCreated 0\n",
      "postalCode 0\n",
      "age 0\n"
     ]
    }
   ],
   "source": [
    "for item in autos:\n",
    "    print(item, (len(autos) - autos[item].count()))"
   ]
  },
  {
   "cell_type": "code",
   "execution_count": 49,
   "metadata": {},
   "outputs": [],
   "source": [
    "def plot_price_impact(col):\n",
    "    unique = list(autos[col].unique())\n",
    "    placeholder_list = []\n",
    "    for item in unique:\n",
    "        placeholder_list.append(autos[autos[col] == item].price.mean())\n",
    "    \n",
    "    if autos[col].isna().any():\n",
    "        unique.append('blank')\n",
    "        placeholder_list.append(autos[autos[col].isna()]['price'].mean())\n",
    "    sns.barplot(x=unique, y=placeholder_list)\n",
    "    plt.title('{} impact on price'.format(col))\n",
    "    plt.ylabel(\"price\")\n",
    "    plt.xticks(rotation=45)"
   ]
  },
  {
   "cell_type": "code",
   "execution_count": 50,
   "metadata": {
    "scrolled": false
   },
   "outputs": [
    {
     "data": {
      "image/png": "[encoded data removed]",
      "text/plain": [
       "<Figure size 864x1296 with 5 Axes>"
      ]
     },
     "metadata": {},
     "output_type": "display_data"
    }
   ],
   "source": [
    "check_price_impact = ['vehicleType', 'gearbox', 'kilometer', 'fuelType', 'notRepairedDamage']\n",
    "\n",
    "plt.figure(figsize=(12,18))\n",
    "n = 1\n",
    "for i in check_price_impact:\n",
    "    plt.subplot(2,3,n)\n",
    "    plot_price_impact(i)\n",
    "    n+=1"
   ]
  },
  {
   "cell_type": "markdown",
   "metadata": {},
   "source": [
    "These plots tell me which cars are the most expensive based on various features. Interesting points:\n",
    "- Suv's are the most expensive cars and small cars (kleinwagens) are the least expensive.\n",
    "- Listings that are vehicleType-less are nearly priced the same as the cheapest cars.\n",
    "- Not including gearbox info corresponds with cars that are cheaper than even manual cars, which are roughly half the price of the automatics on average.\n",
    "- There is a clear relationship between kilometers driven and the price of the car. However cars with under 5000 kilometers are significantly cheaper than those with 10000 miles. It's almost as if people are lying.\n",
    "- FuelType and notRepairedDamage have strong impacts on the price of a car. These will be good features."
   ]
  },
  {
   "cell_type": "markdown",
   "metadata": {},
   "source": [
    "It would appear that leaving info blank could be as telling as the actual information. For 'gearbox' for example, I will try imputing missing values with the string 'blank' and see what impact it has on the accuracy of my future models."
   ]
  },
  {
   "cell_type": "code",
   "execution_count": 51,
   "metadata": {},
   "outputs": [],
   "source": [
    "for i in check_price_impact:\n",
    "    autos[i] = autos[i].fillna(value='blank')"
   ]
  },
  {
   "cell_type": "code",
   "execution_count": 52,
   "metadata": {},
   "outputs": [],
   "source": [
    "autos = autos.dropna()\n",
    "autos = autos.reset_index(drop=True)"
   ]
  },
  {
   "cell_type": "markdown",
   "metadata": {},
   "source": [
    "Before exporting this cleaned dataset, I unfortunately must limit the unique car models. This is because car model is a highly important variable and some of the cars do not appear often enough for it to be reliable or computationally efficient to include them."
   ]
  },
  {
   "cell_type": "code",
   "execution_count": 53,
   "metadata": {},
   "outputs": [],
   "source": [
    "models_to_keep = []\n",
    "for i in autos['model'].unique():\n",
    "    if autos['model'].value_counts()[i] > 500:\n",
    "        models_to_keep.append(i)"
   ]
  },
  {
   "cell_type": "code",
   "execution_count": 54,
   "metadata": {},
   "outputs": [
    {
     "name": "stdout",
     "output_type": "stream",
     "text": [
      "So I am keeping the 102 most common models.\n"
     ]
    }
   ],
   "source": [
    "print(\"So I am keeping the {} most common models.\".format(len(models_to_keep)))"
   ]
  },
  {
   "cell_type": "code",
   "execution_count": 55,
   "metadata": {},
   "outputs": [],
   "source": [
    "common_autos = autos.loc[autos['model'].isin(models_to_keep)]"
   ]
  },
  {
   "cell_type": "code",
   "execution_count": 56,
   "metadata": {},
   "outputs": [
    {
     "name": "stdout",
     "output_type": "stream",
     "text": [
      "<class 'pandas.core.frame.DataFrame'>\n",
      "Int64Index: 315132 entries, 0 to 348218\n",
      "Data columns (total 15 columns):\n",
      "dateCrawled           315132 non-null object\n",
      "name                  315132 non-null object\n",
      "price                 315132 non-null int64\n",
      "vehicleType           315132 non-null object\n",
      "yearOfRegistration    315132 non-null float64\n",
      "gearbox               315132 non-null object\n",
      "powerPS               315132 non-null float64\n",
      "model                 315132 non-null object\n",
      "kilometer             315132 non-null int64\n",
      "fuelType              315132 non-null object\n",
      "brand                 315132 non-null object\n",
      "notRepairedDamage     315132 non-null object\n",
      "dateCreated           315132 non-null object\n",
      "postalCode            315132 non-null int64\n",
      "age                   315132 non-null float64\n",
      "dtypes: float64(3), int64(3), object(9)\n",
      "memory usage: 38.5+ MB\n"
     ]
    }
   ],
   "source": [
    "common_autos.info()"
   ]
  },
  {
   "cell_type": "code",
   "execution_count": 57,
   "metadata": {},
   "outputs": [],
   "source": [
    "autos_export = common_autos.copy().drop(columns=['dateCrawled', 'yearOfRegistration', 'dateCreated', 'postalCode'])"
   ]
  },
  {
   "cell_type": "code",
   "execution_count": 58,
   "metadata": {},
   "outputs": [
    {
     "data": {
      "text/html": [
       "<div>\n",
       "<style scoped>\n",
       "    .dataframe tbody tr th:only-of-type {\n",
       "        vertical-align: middle;\n",
       "    }\n",
       "\n",
       "    .dataframe tbody tr th {\n",
       "        vertical-align: top;\n",
       "    }\n",
       "\n",
       "    .dataframe thead th {\n",
       "        text-align: right;\n",
       "    }\n",
       "</style>\n",
       "<table border=\"1\" class=\"dataframe\">\n",
       "  <thead>\n",
       "    <tr style=\"text-align: right;\">\n",
       "      <th></th>\n",
       "      <th>name</th>\n",
       "      <th>price</th>\n",
       "      <th>vehicleType</th>\n",
       "      <th>gearbox</th>\n",
       "      <th>powerPS</th>\n",
       "      <th>model</th>\n",
       "      <th>kilometer</th>\n",
       "      <th>fuelType</th>\n",
       "      <th>brand</th>\n",
       "      <th>notRepairedDamage</th>\n",
       "      <th>age</th>\n",
       "    </tr>\n",
       "  </thead>\n",
       "  <tbody>\n",
       "    <tr>\n",
       "      <th>0</th>\n",
       "      <td>Golf_3_1.6</td>\n",
       "      <td>480</td>\n",
       "      <td>limousine</td>\n",
       "      <td>manuell</td>\n",
       "      <td>101.0</td>\n",
       "      <td>golf</td>\n",
       "      <td>150000</td>\n",
       "      <td>benzin</td>\n",
       "      <td>volkswagen</td>\n",
       "      <td>blank</td>\n",
       "      <td>25.0</td>\n",
       "    </tr>\n",
       "    <tr>\n",
       "      <th>1</th>\n",
       "      <td>A5_Sportback_2.7_Tdi</td>\n",
       "      <td>18300</td>\n",
       "      <td>coupe</td>\n",
       "      <td>manuell</td>\n",
       "      <td>190.0</td>\n",
       "      <td>a5</td>\n",
       "      <td>125000</td>\n",
       "      <td>diesel</td>\n",
       "      <td>audi</td>\n",
       "      <td>ja</td>\n",
       "      <td>7.0</td>\n",
       "    </tr>\n",
       "    <tr>\n",
       "      <th>2</th>\n",
       "      <td>Jeep_Grand_Cherokee_\"Overland\"</td>\n",
       "      <td>9800</td>\n",
       "      <td>suv</td>\n",
       "      <td>automatik</td>\n",
       "      <td>163.0</td>\n",
       "      <td>grand</td>\n",
       "      <td>125000</td>\n",
       "      <td>diesel</td>\n",
       "      <td>jeep</td>\n",
       "      <td>blank</td>\n",
       "      <td>14.0</td>\n",
       "    </tr>\n",
       "    <tr>\n",
       "      <th>3</th>\n",
       "      <td>GOLF_4_1_4__3T�RER</td>\n",
       "      <td>1500</td>\n",
       "      <td>kleinwagen</td>\n",
       "      <td>manuell</td>\n",
       "      <td>75.0</td>\n",
       "      <td>golf</td>\n",
       "      <td>150000</td>\n",
       "      <td>benzin</td>\n",
       "      <td>volkswagen</td>\n",
       "      <td>nein</td>\n",
       "      <td>17.0</td>\n",
       "    </tr>\n",
       "    <tr>\n",
       "      <th>4</th>\n",
       "      <td>Skoda_Fabia_1.4_TDI_PD_Classic</td>\n",
       "      <td>3600</td>\n",
       "      <td>kleinwagen</td>\n",
       "      <td>manuell</td>\n",
       "      <td>69.0</td>\n",
       "      <td>fabia</td>\n",
       "      <td>90000</td>\n",
       "      <td>diesel</td>\n",
       "      <td>skoda</td>\n",
       "      <td>nein</td>\n",
       "      <td>10.0</td>\n",
       "    </tr>\n",
       "  </tbody>\n",
       "</table>\n",
       "</div>"
      ],
      "text/plain": [
       "                             name  price vehicleType    gearbox  powerPS  \\\n",
       "0                      Golf_3_1.6    480   limousine    manuell    101.0   \n",
       "1            A5_Sportback_2.7_Tdi  18300       coupe    manuell    190.0   \n",
       "2  Jeep_Grand_Cherokee_\"Overland\"   9800         suv  automatik    163.0   \n",
       "3              GOLF_4_1_4__3T�RER   1500  kleinwagen    manuell     75.0   \n",
       "4  Skoda_Fabia_1.4_TDI_PD_Classic   3600  kleinwagen    manuell     69.0   \n",
       "\n",
       "   model  kilometer fuelType       brand notRepairedDamage   age  \n",
       "0   golf     150000   benzin  volkswagen             blank  25.0  \n",
       "1     a5     125000   diesel        audi                ja   7.0  \n",
       "2  grand     125000   diesel        jeep             blank  14.0  \n",
       "3   golf     150000   benzin  volkswagen              nein  17.0  \n",
       "4  fabia      90000   diesel       skoda              nein  10.0  "
      ]
     },
     "execution_count": 58,
     "metadata": {},
     "output_type": "execute_result"
    }
   ],
   "source": [
    "autos_export.head()"
   ]
  },
  {
   "cell_type": "code",
   "execution_count": 59,
   "metadata": {},
   "outputs": [],
   "source": [
    "autos_export.to_csv('autos_export.csv')"
   ]
  }
 ],
 "metadata": {
  "kernelspec": {
   "display_name": "Python 3",
   "language": "python",
   "name": "python3"
  },
  "language_info": {
   "codemirror_mode": {
    "name": "ipython",
    "version": 3
   },
   "file_extension": ".py",
   "mimetype": "text/x-python",
   "name": "python",
   "nbconvert_exporter": "python",
   "pygments_lexer": "ipython3",
   "version": "3.6.4"
  }
 },
 "nbformat": 4,
 "nbformat_minor": 2
}
