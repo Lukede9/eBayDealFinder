{
 "cells": [
  {
   "cell_type": "markdown",
   "metadata": {},
   "source": [
    "# Used Car Models"
   ]
  },
  {
   "cell_type": "markdown",
   "metadata": {},
   "source": [
    "### In this notebook:\n",
    "I will attempt to use car details to predict the price of a used car. I will be using data that I cleaned in another notebook."
   ]
  },
  {
   "cell_type": "code",
   "execution_count": 1,
   "metadata": {},
   "outputs": [
    {
     "name": "stdout",
     "output_type": "stream",
     "text": [
      "1.12.0\n"
     ]
    }
   ],
   "source": [
    "import time\n",
    "\n",
    "import numpy as np\n",
    "import pandas as pd\n",
    "\n",
    "import matplotlib.pyplot as plt\n",
    "import seaborn as sns\n",
    "\n",
    "import sklearn\n",
    "from sklearn.model_selection import train_test_split\n",
    "\n",
    "from sklearn import ensemble\n",
    "from sklearn.neighbors import KNeighborsClassifier\n",
    "from sklearn.svm import SVC\n",
    "from sklearn import tree\n",
    "from sklearn.linear_model import LogisticRegression\n",
    "\n",
    "from sklearn.model_selection import GridSearchCV\n",
    "\n",
    "import tensorflow as tf\n",
    "from tensorflow import keras\n",
    "from tensorflow.keras import layers\n",
    "from sklearn import metrics\n",
    "\n",
    "print(tf.__version__)"
   ]
  },
  {
   "cell_type": "code",
   "execution_count": 2,
   "metadata": {},
   "outputs": [],
   "source": [
    "def plot_regression(pred, y, sort=True):\n",
    "    '''credit to this tutorial: https://www.youtube.com/watch?v=uLa-b3JxWAM'''\n",
    "    t = pd.DataFrame({'pred' : pred, 'y' : y})\n",
    "    if sort:\n",
    "        t.sort_values(by=['y'], inplace=True)\n",
    "    a = plt.plot(t['pred'].tolist(), label='prediction')\n",
    "    b = plt.plot(t['y'].tolist(), label='true prices')\n",
    "\n",
    "    plt.ylabel('prediction')\n",
    "    plt.legend()\n",
    "    plt.show()"
   ]
  },
  {
   "cell_type": "code",
   "execution_count": 3,
   "metadata": {},
   "outputs": [],
   "source": [
    "# Bringing in the data from the other notebook\n",
    "autos_import = pd.read_csv(\"autos_export.csv\", index_col=0)\n",
    "\n",
    "# The newly scraped data\n",
    "new_used_cars = pd.read_csv('new_used_cars.csv', index_col=0)"
   ]
  },
  {
   "cell_type": "code",
   "execution_count": 4,
   "metadata": {},
   "outputs": [
    {
     "data": {
      "text/plain": [
       "(180, 11)"
      ]
     },
     "execution_count": 4,
     "metadata": {},
     "output_type": "execute_result"
    }
   ],
   "source": [
    "new_used_cars.shape"
   ]
  },
  {
   "cell_type": "code",
   "execution_count": 5,
   "metadata": {},
   "outputs": [],
   "source": [
    "# Sampling down because my computer is weak\n",
    "autos_sample = autos_import.sample(n=25000, random_state=24)\n",
    "\n",
    "# Combining the two datasets\n",
    "autos = pd.concat([autos_sample, new_used_cars], axis=0)"
   ]
  },
  {
   "cell_type": "code",
   "execution_count": 6,
   "metadata": {},
   "outputs": [
    {
     "data": {
      "text/html": [
       "<div>\n",
       "<style scoped>\n",
       "    .dataframe tbody tr th:only-of-type {\n",
       "        vertical-align: middle;\n",
       "    }\n",
       "\n",
       "    .dataframe tbody tr th {\n",
       "        vertical-align: top;\n",
       "    }\n",
       "\n",
       "    .dataframe thead th {\n",
       "        text-align: right;\n",
       "    }\n",
       "</style>\n",
       "<table border=\"1\" class=\"dataframe\">\n",
       "  <thead>\n",
       "    <tr style=\"text-align: right;\">\n",
       "      <th></th>\n",
       "      <th>age</th>\n",
       "      <th>brand</th>\n",
       "      <th>fuelType</th>\n",
       "      <th>gearbox</th>\n",
       "      <th>kilometer</th>\n",
       "      <th>model</th>\n",
       "      <th>name</th>\n",
       "      <th>notRepairedDamage</th>\n",
       "      <th>powerPS</th>\n",
       "      <th>price</th>\n",
       "      <th>vehicleType</th>\n",
       "    </tr>\n",
       "  </thead>\n",
       "  <tbody>\n",
       "    <tr>\n",
       "      <th>135357</th>\n",
       "      <td>14.0</td>\n",
       "      <td>ford</td>\n",
       "      <td>benzin</td>\n",
       "      <td>manuell</td>\n",
       "      <td>150000</td>\n",
       "      <td>fiesta</td>\n",
       "      <td>Ford_Fiesta_Mod.2005</td>\n",
       "      <td>nein</td>\n",
       "      <td>60.0</td>\n",
       "      <td>1830.0</td>\n",
       "      <td>kleinwagen</td>\n",
       "    </tr>\n",
       "    <tr>\n",
       "      <th>57557</th>\n",
       "      <td>6.0</td>\n",
       "      <td>opel</td>\n",
       "      <td>benzin</td>\n",
       "      <td>manuell</td>\n",
       "      <td>50000</td>\n",
       "      <td>astra</td>\n",
       "      <td>Opel_Astra_1_4_Sports_Tourer_Kombi_Limosine__T...</td>\n",
       "      <td>nein</td>\n",
       "      <td>140.0</td>\n",
       "      <td>12500.0</td>\n",
       "      <td>limousine</td>\n",
       "    </tr>\n",
       "    <tr>\n",
       "      <th>30729</th>\n",
       "      <td>14.0</td>\n",
       "      <td>bmw</td>\n",
       "      <td>diesel</td>\n",
       "      <td>automatik</td>\n",
       "      <td>150000</td>\n",
       "      <td>x_reihe</td>\n",
       "      <td>BMW_X3_3.0_D</td>\n",
       "      <td>nein</td>\n",
       "      <td>204.0</td>\n",
       "      <td>10500.0</td>\n",
       "      <td>suv</td>\n",
       "    </tr>\n",
       "    <tr>\n",
       "      <th>249210</th>\n",
       "      <td>11.0</td>\n",
       "      <td>seat</td>\n",
       "      <td>benzin</td>\n",
       "      <td>manuell</td>\n",
       "      <td>125000</td>\n",
       "      <td>ibiza</td>\n",
       "      <td>Seat_Ibiza_1.2_12V__Klimaautomatik</td>\n",
       "      <td>blank</td>\n",
       "      <td>69.0</td>\n",
       "      <td>2800.0</td>\n",
       "      <td>kleinwagen</td>\n",
       "    </tr>\n",
       "    <tr>\n",
       "      <th>159151</th>\n",
       "      <td>11.0</td>\n",
       "      <td>suzuki</td>\n",
       "      <td>benzin</td>\n",
       "      <td>manuell</td>\n",
       "      <td>80000</td>\n",
       "      <td>swift</td>\n",
       "      <td>Suzuki_Swift_mit_neuem_Tuev</td>\n",
       "      <td>blank</td>\n",
       "      <td>92.0</td>\n",
       "      <td>3999.0</td>\n",
       "      <td>kleinwagen</td>\n",
       "    </tr>\n",
       "  </tbody>\n",
       "</table>\n",
       "</div>"
      ],
      "text/plain": [
       "         age   brand fuelType    gearbox  kilometer    model  \\\n",
       "135357  14.0    ford   benzin    manuell     150000   fiesta   \n",
       "57557    6.0    opel   benzin    manuell      50000    astra   \n",
       "30729   14.0     bmw   diesel  automatik     150000  x_reihe   \n",
       "249210  11.0    seat   benzin    manuell     125000    ibiza   \n",
       "159151  11.0  suzuki   benzin    manuell      80000    swift   \n",
       "\n",
       "                                                     name notRepairedDamage  \\\n",
       "135357                               Ford_Fiesta_Mod.2005              nein   \n",
       "57557   Opel_Astra_1_4_Sports_Tourer_Kombi_Limosine__T...              nein   \n",
       "30729                                        BMW_X3_3.0_D              nein   \n",
       "249210                 Seat_Ibiza_1.2_12V__Klimaautomatik             blank   \n",
       "159151                        Suzuki_Swift_mit_neuem_Tuev             blank   \n",
       "\n",
       "        powerPS    price vehicleType  \n",
       "135357     60.0   1830.0  kleinwagen  \n",
       "57557     140.0  12500.0   limousine  \n",
       "30729     204.0  10500.0         suv  \n",
       "249210     69.0   2800.0  kleinwagen  \n",
       "159151     92.0   3999.0  kleinwagen  "
      ]
     },
     "execution_count": 6,
     "metadata": {},
     "output_type": "execute_result"
    }
   ],
   "source": [
    "autos.head()"
   ]
  },
  {
   "cell_type": "code",
   "execution_count": 7,
   "metadata": {
    "scrolled": true
   },
   "outputs": [
    {
     "name": "stdout",
     "output_type": "stream",
     "text": [
      "<class 'pandas.core.frame.DataFrame'>\n",
      "Int64Index: 25180 entries, 135357 to 254\n",
      "Data columns (total 11 columns):\n",
      "age                  25180 non-null float64\n",
      "brand                25180 non-null object\n",
      "fuelType             25180 non-null object\n",
      "gearbox              25180 non-null object\n",
      "kilometer            25180 non-null int64\n",
      "model                25180 non-null object\n",
      "name                 25180 non-null object\n",
      "notRepairedDamage    25180 non-null object\n",
      "powerPS              25180 non-null float64\n",
      "price                25180 non-null float64\n",
      "vehicleType          25180 non-null object\n",
      "dtypes: float64(3), int64(1), object(7)\n",
      "memory usage: 2.3+ MB\n"
     ]
    }
   ],
   "source": [
    "# Looking good\n",
    "autos.info()"
   ]
  },
  {
   "cell_type": "code",
   "execution_count": 8,
   "metadata": {},
   "outputs": [],
   "source": [
    "# Splitting categorical and continuous data so I can make dummies\n",
    "autos_cat = autos.select_dtypes(exclude=['float', 'int'])\n",
    "autos_cont = autos.select_dtypes(include=['float', 'int'])"
   ]
  },
  {
   "cell_type": "code",
   "execution_count": 9,
   "metadata": {},
   "outputs": [
    {
     "data": {
      "text/html": [
       "<div>\n",
       "<style scoped>\n",
       "    .dataframe tbody tr th:only-of-type {\n",
       "        vertical-align: middle;\n",
       "    }\n",
       "\n",
       "    .dataframe tbody tr th {\n",
       "        vertical-align: top;\n",
       "    }\n",
       "\n",
       "    .dataframe thead th {\n",
       "        text-align: right;\n",
       "    }\n",
       "</style>\n",
       "<table border=\"1\" class=\"dataframe\">\n",
       "  <thead>\n",
       "    <tr style=\"text-align: right;\">\n",
       "      <th></th>\n",
       "      <th>brand</th>\n",
       "      <th>fuelType</th>\n",
       "      <th>gearbox</th>\n",
       "      <th>model</th>\n",
       "      <th>name</th>\n",
       "      <th>notRepairedDamage</th>\n",
       "      <th>vehicleType</th>\n",
       "    </tr>\n",
       "  </thead>\n",
       "  <tbody>\n",
       "    <tr>\n",
       "      <th>135357</th>\n",
       "      <td>ford</td>\n",
       "      <td>benzin</td>\n",
       "      <td>manuell</td>\n",
       "      <td>fiesta</td>\n",
       "      <td>Ford_Fiesta_Mod.2005</td>\n",
       "      <td>nein</td>\n",
       "      <td>kleinwagen</td>\n",
       "    </tr>\n",
       "    <tr>\n",
       "      <th>57557</th>\n",
       "      <td>opel</td>\n",
       "      <td>benzin</td>\n",
       "      <td>manuell</td>\n",
       "      <td>astra</td>\n",
       "      <td>Opel_Astra_1_4_Sports_Tourer_Kombi_Limosine__T...</td>\n",
       "      <td>nein</td>\n",
       "      <td>limousine</td>\n",
       "    </tr>\n",
       "    <tr>\n",
       "      <th>30729</th>\n",
       "      <td>bmw</td>\n",
       "      <td>diesel</td>\n",
       "      <td>automatik</td>\n",
       "      <td>x_reihe</td>\n",
       "      <td>BMW_X3_3.0_D</td>\n",
       "      <td>nein</td>\n",
       "      <td>suv</td>\n",
       "    </tr>\n",
       "    <tr>\n",
       "      <th>249210</th>\n",
       "      <td>seat</td>\n",
       "      <td>benzin</td>\n",
       "      <td>manuell</td>\n",
       "      <td>ibiza</td>\n",
       "      <td>Seat_Ibiza_1.2_12V__Klimaautomatik</td>\n",
       "      <td>blank</td>\n",
       "      <td>kleinwagen</td>\n",
       "    </tr>\n",
       "    <tr>\n",
       "      <th>159151</th>\n",
       "      <td>suzuki</td>\n",
       "      <td>benzin</td>\n",
       "      <td>manuell</td>\n",
       "      <td>swift</td>\n",
       "      <td>Suzuki_Swift_mit_neuem_Tuev</td>\n",
       "      <td>blank</td>\n",
       "      <td>kleinwagen</td>\n",
       "    </tr>\n",
       "  </tbody>\n",
       "</table>\n",
       "</div>"
      ],
      "text/plain": [
       "         brand fuelType    gearbox    model  \\\n",
       "135357    ford   benzin    manuell   fiesta   \n",
       "57557     opel   benzin    manuell    astra   \n",
       "30729      bmw   diesel  automatik  x_reihe   \n",
       "249210    seat   benzin    manuell    ibiza   \n",
       "159151  suzuki   benzin    manuell    swift   \n",
       "\n",
       "                                                     name notRepairedDamage  \\\n",
       "135357                               Ford_Fiesta_Mod.2005              nein   \n",
       "57557   Opel_Astra_1_4_Sports_Tourer_Kombi_Limosine__T...              nein   \n",
       "30729                                        BMW_X3_3.0_D              nein   \n",
       "249210                 Seat_Ibiza_1.2_12V__Klimaautomatik             blank   \n",
       "159151                        Suzuki_Swift_mit_neuem_Tuev             blank   \n",
       "\n",
       "       vehicleType  \n",
       "135357  kleinwagen  \n",
       "57557    limousine  \n",
       "30729          suv  \n",
       "249210  kleinwagen  \n",
       "159151  kleinwagen  "
      ]
     },
     "execution_count": 9,
     "metadata": {},
     "output_type": "execute_result"
    }
   ],
   "source": [
    "autos_cat.head()"
   ]
  },
  {
   "cell_type": "code",
   "execution_count": 10,
   "metadata": {},
   "outputs": [],
   "source": [
    "# Creating dummy variables out of the categorical variables\n",
    "auto_names = autos_cat.pop('name') # Saving these for later\n",
    "autos_dummies = pd.get_dummies(autos_cat)"
   ]
  },
  {
   "cell_type": "code",
   "execution_count": 11,
   "metadata": {},
   "outputs": [],
   "source": [
    "combined_datasets = pd.concat([autos_cont.drop(columns=['price']), autos_dummies], axis=1)"
   ]
  },
  {
   "cell_type": "code",
   "execution_count": 12,
   "metadata": {},
   "outputs": [],
   "source": [
    "features = combined_datasets.iloc[:(len(combined_datasets)-180)]\n",
    "outcome = autos.price.iloc[:(len(combined_datasets)-180)]\n",
    "training_names = auto_names[:(len(combined_datasets)-180)]"
   ]
  },
  {
   "cell_type": "code",
   "execution_count": 13,
   "metadata": {},
   "outputs": [],
   "source": [
    "later_features = combined_datasets.iloc[(len(combined_datasets)-180):]\n",
    "later_outcome = autos.price.iloc[(len(combined_datasets)-180):]\n",
    "later_names = auto_names[(len(combined_datasets)-180):]"
   ]
  },
  {
   "cell_type": "code",
   "execution_count": 14,
   "metadata": {},
   "outputs": [],
   "source": [
    "X_train, X_test, y_train, y_test = train_test_split(features, \n",
    "                                                    outcome,\n",
    "                                                    test_size=.3,\n",
    "                                                    random_state=24)"
   ]
  },
  {
   "cell_type": "code",
   "execution_count": 15,
   "metadata": {},
   "outputs": [
    {
     "data": {
      "text/html": [
       "<div>\n",
       "<style scoped>\n",
       "    .dataframe tbody tr th:only-of-type {\n",
       "        vertical-align: middle;\n",
       "    }\n",
       "\n",
       "    .dataframe tbody tr th {\n",
       "        vertical-align: top;\n",
       "    }\n",
       "\n",
       "    .dataframe thead th {\n",
       "        text-align: right;\n",
       "    }\n",
       "</style>\n",
       "<table border=\"1\" class=\"dataframe\">\n",
       "  <thead>\n",
       "    <tr style=\"text-align: right;\">\n",
       "      <th></th>\n",
       "      <th>age</th>\n",
       "      <th>kilometer</th>\n",
       "      <th>powerPS</th>\n",
       "      <th>brand_alfa romeo</th>\n",
       "      <th>brand_alfa_romeo</th>\n",
       "      <th>brand_audi</th>\n",
       "      <th>brand_bmw</th>\n",
       "      <th>brand_chevrolet</th>\n",
       "      <th>brand_chrysler</th>\n",
       "      <th>brand_citroen</th>\n",
       "      <th>...</th>\n",
       "      <th>notRepairedDamage_ja</th>\n",
       "      <th>notRepairedDamage_nein</th>\n",
       "      <th>vehicleType_andere</th>\n",
       "      <th>vehicleType_bus</th>\n",
       "      <th>vehicleType_cabrio</th>\n",
       "      <th>vehicleType_coupe</th>\n",
       "      <th>vehicleType_kleinwagen</th>\n",
       "      <th>vehicleType_kombi</th>\n",
       "      <th>vehicleType_limousine</th>\n",
       "      <th>vehicleType_suv</th>\n",
       "    </tr>\n",
       "  </thead>\n",
       "  <tbody>\n",
       "    <tr>\n",
       "      <th>277428</th>\n",
       "      <td>22.0</td>\n",
       "      <td>150000</td>\n",
       "      <td>75.0</td>\n",
       "      <td>0</td>\n",
       "      <td>0</td>\n",
       "      <td>0</td>\n",
       "      <td>0</td>\n",
       "      <td>0</td>\n",
       "      <td>0</td>\n",
       "      <td>0</td>\n",
       "      <td>...</td>\n",
       "      <td>0</td>\n",
       "      <td>0</td>\n",
       "      <td>0</td>\n",
       "      <td>0</td>\n",
       "      <td>0</td>\n",
       "      <td>0</td>\n",
       "      <td>0</td>\n",
       "      <td>0</td>\n",
       "      <td>1</td>\n",
       "      <td>0</td>\n",
       "    </tr>\n",
       "    <tr>\n",
       "      <th>147288</th>\n",
       "      <td>21.0</td>\n",
       "      <td>150000</td>\n",
       "      <td>139.0</td>\n",
       "      <td>0</td>\n",
       "      <td>0</td>\n",
       "      <td>0</td>\n",
       "      <td>1</td>\n",
       "      <td>0</td>\n",
       "      <td>0</td>\n",
       "      <td>0</td>\n",
       "      <td>...</td>\n",
       "      <td>0</td>\n",
       "      <td>1</td>\n",
       "      <td>0</td>\n",
       "      <td>0</td>\n",
       "      <td>1</td>\n",
       "      <td>0</td>\n",
       "      <td>0</td>\n",
       "      <td>0</td>\n",
       "      <td>0</td>\n",
       "      <td>0</td>\n",
       "    </tr>\n",
       "    <tr>\n",
       "      <th>271765</th>\n",
       "      <td>26.0</td>\n",
       "      <td>150000</td>\n",
       "      <td>150.0</td>\n",
       "      <td>0</td>\n",
       "      <td>0</td>\n",
       "      <td>1</td>\n",
       "      <td>0</td>\n",
       "      <td>0</td>\n",
       "      <td>0</td>\n",
       "      <td>0</td>\n",
       "      <td>...</td>\n",
       "      <td>0</td>\n",
       "      <td>1</td>\n",
       "      <td>0</td>\n",
       "      <td>0</td>\n",
       "      <td>0</td>\n",
       "      <td>1</td>\n",
       "      <td>0</td>\n",
       "      <td>0</td>\n",
       "      <td>0</td>\n",
       "      <td>0</td>\n",
       "    </tr>\n",
       "    <tr>\n",
       "      <th>179659</th>\n",
       "      <td>13.0</td>\n",
       "      <td>150000</td>\n",
       "      <td>116.0</td>\n",
       "      <td>0</td>\n",
       "      <td>0</td>\n",
       "      <td>0</td>\n",
       "      <td>0</td>\n",
       "      <td>0</td>\n",
       "      <td>0</td>\n",
       "      <td>0</td>\n",
       "      <td>...</td>\n",
       "      <td>0</td>\n",
       "      <td>1</td>\n",
       "      <td>0</td>\n",
       "      <td>0</td>\n",
       "      <td>0</td>\n",
       "      <td>0</td>\n",
       "      <td>0</td>\n",
       "      <td>0</td>\n",
       "      <td>1</td>\n",
       "      <td>0</td>\n",
       "    </tr>\n",
       "    <tr>\n",
       "      <th>108415</th>\n",
       "      <td>10.0</td>\n",
       "      <td>125000</td>\n",
       "      <td>170.0</td>\n",
       "      <td>0</td>\n",
       "      <td>0</td>\n",
       "      <td>0</td>\n",
       "      <td>0</td>\n",
       "      <td>0</td>\n",
       "      <td>0</td>\n",
       "      <td>0</td>\n",
       "      <td>...</td>\n",
       "      <td>0</td>\n",
       "      <td>1</td>\n",
       "      <td>0</td>\n",
       "      <td>0</td>\n",
       "      <td>0</td>\n",
       "      <td>0</td>\n",
       "      <td>0</td>\n",
       "      <td>1</td>\n",
       "      <td>0</td>\n",
       "      <td>0</td>\n",
       "    </tr>\n",
       "  </tbody>\n",
       "</table>\n",
       "<p>5 rows × 167 columns</p>\n",
       "</div>"
      ],
      "text/plain": [
       "         age  kilometer  powerPS  brand_alfa romeo  brand_alfa_romeo  \\\n",
       "277428  22.0     150000     75.0                 0                 0   \n",
       "147288  21.0     150000    139.0                 0                 0   \n",
       "271765  26.0     150000    150.0                 0                 0   \n",
       "179659  13.0     150000    116.0                 0                 0   \n",
       "108415  10.0     125000    170.0                 0                 0   \n",
       "\n",
       "        brand_audi  brand_bmw  brand_chevrolet  brand_chrysler  brand_citroen  \\\n",
       "277428           0          0                0               0              0   \n",
       "147288           0          1                0               0              0   \n",
       "271765           1          0                0               0              0   \n",
       "179659           0          0                0               0              0   \n",
       "108415           0          0                0               0              0   \n",
       "\n",
       "             ...         notRepairedDamage_ja  notRepairedDamage_nein  \\\n",
       "277428       ...                            0                       0   \n",
       "147288       ...                            0                       1   \n",
       "271765       ...                            0                       1   \n",
       "179659       ...                            0                       1   \n",
       "108415       ...                            0                       1   \n",
       "\n",
       "        vehicleType_andere  vehicleType_bus  vehicleType_cabrio  \\\n",
       "277428                   0                0                   0   \n",
       "147288                   0                0                   1   \n",
       "271765                   0                0                   0   \n",
       "179659                   0                0                   0   \n",
       "108415                   0                0                   0   \n",
       "\n",
       "        vehicleType_coupe  vehicleType_kleinwagen  vehicleType_kombi  \\\n",
       "277428                  0                       0                  0   \n",
       "147288                  0                       0                  0   \n",
       "271765                  1                       0                  0   \n",
       "179659                  0                       0                  0   \n",
       "108415                  0                       0                  1   \n",
       "\n",
       "        vehicleType_limousine  vehicleType_suv  \n",
       "277428                      1                0  \n",
       "147288                      0                0  \n",
       "271765                      0                0  \n",
       "179659                      1                0  \n",
       "108415                      0                0  \n",
       "\n",
       "[5 rows x 167 columns]"
      ]
     },
     "execution_count": 15,
     "metadata": {},
     "output_type": "execute_result"
    }
   ],
   "source": [
    "X_train.head()"
   ]
  },
  {
   "cell_type": "markdown",
   "metadata": {},
   "source": [
    "### Scaling\n",
    "StandardScaler is useful if there are large outliers. But I dealt with that thoroughly in my cleaning process. MinMaxScaler is useful for the neural networks that I will be trying later so I will use that."
   ]
  },
  {
   "cell_type": "code",
   "execution_count": 16,
   "metadata": {},
   "outputs": [
    {
     "name": "stderr",
     "output_type": "stream",
     "text": [
      "/Library/Frameworks/Python.framework/Versions/3.6/lib/python3.6/site-packages/sklearn/preprocessing/data.py:323: DataConversionWarning: Data with input dtype uint8, int64, float64 were all converted to float64 by MinMaxScaler.\n",
      "  return self.partial_fit(X, y)\n",
      "/Library/Frameworks/Python.framework/Versions/3.6/lib/python3.6/site-packages/sklearn/preprocessing/data.py:323: DataConversionWarning: Data with input dtype uint8, int64, float64 were all converted to float64 by MinMaxScaler.\n",
      "  return self.partial_fit(X, y)\n"
     ]
    }
   ],
   "source": [
    "# MinMaxScaler\n",
    "mms = sklearn.preprocessing.MinMaxScaler()\n",
    "X_train_scaled = mms.fit_transform(X_train)\n",
    "X_test_scaled = mms.fit_transform(X_test)"
   ]
  },
  {
   "cell_type": "markdown",
   "metadata": {},
   "source": [
    "### K Nearest Neighbors"
   ]
  },
  {
   "cell_type": "code",
   "execution_count": 17,
   "metadata": {},
   "outputs": [
    {
     "name": "stdout",
     "output_type": "stream",
     "text": [
      "0.6293126575672813\n",
      "25.64874505996704\n"
     ]
    }
   ],
   "source": [
    "# Using default parameters\n",
    "start = time.time()\n",
    "\n",
    "knn = sklearn.neighbors.KNeighborsRegressor()\n",
    "knn.fit(X_train_scaled, y_train)\n",
    "knn_preds = knn.predict(X_test_scaled)\n",
    "print(sklearn.metrics.r2_score(y_test, knn_preds))\n",
    "\n",
    "knn_time = time.time() - start\n",
    "print(knn_time)"
   ]
  },
  {
   "cell_type": "markdown",
   "metadata": {},
   "source": [
    "### Random Forest"
   ]
  },
  {
   "cell_type": "code",
   "execution_count": 18,
   "metadata": {},
   "outputs": [
    {
     "name": "stderr",
     "output_type": "stream",
     "text": [
      "/Library/Frameworks/Python.framework/Versions/3.6/lib/python3.6/site-packages/sklearn/ensemble/forest.py:248: FutureWarning: The default value of n_estimators will change from 10 in version 0.20 to 100 in 0.22.\n",
      "  \"10 in version 0.20 to 100 in 0.22.\", FutureWarning)\n"
     ]
    },
    {
     "name": "stdout",
     "output_type": "stream",
     "text": [
      "0.8177188967137915\n",
      "2.3858251571655273\n"
     ]
    }
   ],
   "source": [
    "# Using default parameters\n",
    "start = time.time()\n",
    "\n",
    "rfc = ensemble.RandomForestRegressor(random_state=24)\n",
    "rfc.fit(X_train, y_train)\n",
    "rfc_preds = rfc.predict(X_test)\n",
    "print(sklearn.metrics.r2_score(y_test, rfc_preds))\n",
    "\n",
    "rfc_time = time.time() - start\n",
    "print(rfc_time)"
   ]
  },
  {
   "cell_type": "markdown",
   "metadata": {},
   "source": [
    "### Gradient Boosting"
   ]
  },
  {
   "cell_type": "code",
   "execution_count": 19,
   "metadata": {},
   "outputs": [
    {
     "name": "stdout",
     "output_type": "stream",
     "text": [
      "0.7888288489886205\n",
      "7.284694194793701\n"
     ]
    }
   ],
   "source": [
    "# Using default parameters\n",
    "start = time.time()\n",
    "\n",
    "gbc = ensemble.GradientBoostingRegressor()\n",
    "gbc.fit(X_train, y_train)\n",
    "gbc_preds = gbc.predict(X_test)\n",
    "print(sklearn.metrics.r2_score(y_test, gbc_preds))\n",
    "\n",
    "gbc_time = time.time() - start\n",
    "print(gbc_time)"
   ]
  },
  {
   "cell_type": "markdown",
   "metadata": {},
   "source": [
    "Random Forest and Gradient boosting are significantly faster and more accurate than KNN so I will focus on those."
   ]
  },
  {
   "cell_type": "markdown",
   "metadata": {},
   "source": [
    "### Optimized Random Forest"
   ]
  },
  {
   "cell_type": "code",
   "execution_count": 20,
   "metadata": {},
   "outputs": [],
   "source": [
    "# rfr_params =[{'n_estimators':[10, 90, 100, 200, 300, 400],\n",
    "#              'max_features' : ['auto', 'sqrt', 'log2'],\n",
    "#              'min_sample_split' [2, 10]\n",
    "# }]\n",
    "# I commented this out because it takes forever to run. It chose the defult parameters with 'n_estimators' = 300"
   ]
  },
  {
   "cell_type": "code",
   "execution_count": 21,
   "metadata": {},
   "outputs": [],
   "source": [
    "# rfr_search = GridSearchCV(estimator=rfc, param_grid=rfr_params, scoring='r2', cv=5)\n",
    "# rfr_search.fit(X_train, y_train)\n",
    "# tuned_rfr = rfr_search.best_estimator_"
   ]
  },
  {
   "cell_type": "code",
   "execution_count": 22,
   "metadata": {},
   "outputs": [
    {
     "data": {
      "text/plain": [
       "RandomForestRegressor(bootstrap=True, criterion='mse', max_depth=None,\n",
       "           max_features='auto', max_leaf_nodes=None,\n",
       "           min_impurity_decrease=0.0, min_impurity_split=None,\n",
       "           min_samples_leaf=1, min_samples_split=2,\n",
       "           min_weight_fraction_leaf=0.0, n_estimators=300, n_jobs=None,\n",
       "           oob_score=False, random_state=24, verbose=0, warm_start=False)"
      ]
     },
     "execution_count": 22,
     "metadata": {},
     "output_type": "execute_result"
    }
   ],
   "source": [
    "tuned_rfr = ensemble.RandomForestRegressor(n_estimators=300, random_state=24)\n",
    "tuned_rfr.fit(X_train, y_train)"
   ]
  },
  {
   "cell_type": "code",
   "execution_count": 23,
   "metadata": {},
   "outputs": [
    {
     "name": "stdout",
     "output_type": "stream",
     "text": [
      "0.8221253693854778\n"
     ]
    }
   ],
   "source": [
    "tuned_rfr_preds = tuned_rfr.predict(X_test)\n",
    "print(sklearn.metrics.r2_score(y_test, tuned_rfr_preds))"
   ]
  },
  {
   "cell_type": "code",
   "execution_count": 24,
   "metadata": {},
   "outputs": [
    {
     "data": {
      "image/png": "[encoded data removed]",
      "text/plain": [
       "<Figure size 432x288 with 1 Axes>"
      ]
     },
     "metadata": {},
     "output_type": "display_data"
    }
   ],
   "source": [
    "plot_regression(tuned_rfr_preds, y_test)"
   ]
  },
  {
   "cell_type": "markdown",
   "metadata": {},
   "source": [
    "### Optimized Gradient Boosting"
   ]
  },
  {
   "cell_type": "code",
   "execution_count": 25,
   "metadata": {},
   "outputs": [],
   "source": [
    "# gbc_params = [{'learning_rate' : [.05, .09, .1, .15, .25, .3], \n",
    "#                'n_estimators' : [100, 150, 200, 250, 350, 400, 500, 600]\n",
    "# }]\n",
    "\n",
    "# I commented this out so I would not have to run it again and again. It chose learning_rate=0.25 and\n",
    "# n_estimators=400"
   ]
  },
  {
   "cell_type": "code",
   "execution_count": 26,
   "metadata": {},
   "outputs": [],
   "source": [
    "# gbc_search = GridSearchCV(estimator=gbc, param_grid=gbc_params, scoring='r2', cv=5)\n",
    "# gbc_search.fit(X_train, y_train)\n",
    "# tuned_gbc = gbc_search.best_estimator_"
   ]
  },
  {
   "cell_type": "code",
   "execution_count": 27,
   "metadata": {},
   "outputs": [
    {
     "data": {
      "text/plain": [
       "GradientBoostingRegressor(alpha=0.9, criterion='friedman_mse', init=None,\n",
       "             learning_rate=0.25, loss='ls', max_depth=3, max_features=None,\n",
       "             max_leaf_nodes=None, min_impurity_decrease=0.0,\n",
       "             min_impurity_split=None, min_samples_leaf=1,\n",
       "             min_samples_split=2, min_weight_fraction_leaf=0.0,\n",
       "             n_estimators=400, n_iter_no_change=None, presort='auto',\n",
       "             random_state=None, subsample=1.0, tol=0.0001,\n",
       "             validation_fraction=0.1, verbose=0, warm_start=False)"
      ]
     },
     "execution_count": 27,
     "metadata": {},
     "output_type": "execute_result"
    }
   ],
   "source": [
    "# Ended up choosing learning rate of .25 and 400 estimators\n",
    "tuned_gbr = ensemble.GradientBoostingRegressor(learning_rate=0.25, n_estimators=400)\n",
    "tuned_gbr.fit(X_train, y_train)"
   ]
  },
  {
   "cell_type": "code",
   "execution_count": 28,
   "metadata": {},
   "outputs": [
    {
     "name": "stdout",
     "output_type": "stream",
     "text": [
      "0.8143165411211333\n"
     ]
    }
   ],
   "source": [
    "tuned_gbr_preds = tuned_gbr.predict(X_test)\n",
    "print(sklearn.metrics.r2_score(y_test, tuned_gbr_preds))"
   ]
  },
  {
   "cell_type": "code",
   "execution_count": 29,
   "metadata": {},
   "outputs": [
    {
     "data": {
      "image/png": "[encoded data removed]",
      "text/plain": [
       "<Figure size 432x288 with 1 Axes>"
      ]
     },
     "metadata": {},
     "output_type": "display_data"
    }
   ],
   "source": [
    "plot_regression(tuned_gbr_preds, y_test)"
   ]
  },
  {
   "cell_type": "markdown",
   "metadata": {},
   "source": [
    "## Scikit Learn modeling Summary\n",
    "- Gradient Boosting and Random Forest outperformed other models for predicting price.\n",
    "- Once tuned, they improved to achieve r2 scores of roughly .82"
   ]
  },
  {
   "cell_type": "markdown",
   "metadata": {},
   "source": [
    "## Modeling with TensorFlow"
   ]
  },
  {
   "cell_type": "code",
   "execution_count": 30,
   "metadata": {},
   "outputs": [],
   "source": [
    "# Creating a TensorFlow model to use as a baseline. All parameters are off top of head.\n",
    "\n",
    "def build_model():\n",
    "    model = keras.Sequential([\n",
    "        layers.Dense(160, activation=tf.nn.relu, input_shape=[X_train_scaled.shape[1]]),\n",
    "        layers.Dense(80, activation=tf.nn.relu),\n",
    "        layers.Dense(40, activation=tf.nn.relu),\n",
    "        layers.Dense(20, activation=tf.nn.relu),\n",
    "        layers.Dense(1)\n",
    "    ])\n",
    "    \n",
    "    model.compile(loss='mean_squared_error',\n",
    "                 optimizer='adam',\n",
    "                 metrics=['mean_absolute_error', 'mean_squared_error'])\n",
    "    return model"
   ]
  },
  {
   "cell_type": "code",
   "execution_count": 31,
   "metadata": {},
   "outputs": [],
   "source": [
    "monitor = keras.callbacks.EarlyStopping(monitor='val_loss', min_delta=1e-3, patience=5, verbose=1, mode='auto')\n",
    "checkpointer = keras.callbacks.ModelCheckpoint(filepath='best_weights.hdf5', verbose=0, save_best_only=True)"
   ]
  },
  {
   "cell_type": "code",
   "execution_count": 32,
   "metadata": {},
   "outputs": [
    {
     "name": "stdout",
     "output_type": "stream",
     "text": [
      "Epoch 00018: early stopping\n"
     ]
    }
   ],
   "source": [
    "model = build_model()\n",
    "history = model.fit(X_train_scaled, y_train, \n",
    "          validation_data=(X_test_scaled, y_test), \n",
    "          callbacks=[monitor, checkpointer], \n",
    "          verbose=0, epochs=1000)"
   ]
  },
  {
   "cell_type": "code",
   "execution_count": 33,
   "metadata": {},
   "outputs": [
    {
     "name": "stdout",
     "output_type": "stream",
     "text": [
      "Score (RMSE): 4263.795168734416\n"
     ]
    },
    {
     "data": {
      "image/png": "[encoded data removed]",
      "text/plain": [
       "<Figure size 432x288 with 1 Axes>"
      ]
     },
     "metadata": {},
     "output_type": "display_data"
    }
   ],
   "source": [
    "pred = model.predict(X_test_scaled)\n",
    "score = np.sqrt(metrics.mean_squared_error(pred, y_test))\n",
    "print(\"Score (RMSE): {}\".format(score))\n",
    "\n",
    "plot_regression(pred.flatten(), y_test)"
   ]
  },
  {
   "cell_type": "code",
   "execution_count": 34,
   "metadata": {},
   "outputs": [
    {
     "data": {
      "text/plain": [
       "0.6889330182719987"
      ]
     },
     "execution_count": 34,
     "metadata": {},
     "output_type": "execute_result"
    }
   ],
   "source": [
    "# Comparing the effectiveness of the TensorFlow Model to the Scikit Learn Models\n",
    "sklearn.metrics.r2_score(pred, y_test)"
   ]
  },
  {
   "cell_type": "code",
   "execution_count": 35,
   "metadata": {},
   "outputs": [
    {
     "name": "stderr",
     "output_type": "stream",
     "text": [
      "Using TensorFlow backend.\n"
     ]
    }
   ],
   "source": [
    "# Optimizing the layers using GridSearchCV\n",
    "from keras.wrappers.scikit_learn import KerasRegressor\n",
    "\n",
    "def create_model(layers, activation):\n",
    "    model = keras.Sequential()\n",
    "    for i, nodes in enumerate(layers):\n",
    "        if i==0:\n",
    "            model.add(keras.layers.Dense(nodes,input_dim=X_train_scaled.shape[1]))\n",
    "            model.add(keras.layers.Activation(activation))\n",
    "        else:\n",
    "            model.add(keras.layers.Dense(nodes))\n",
    "            model.add(keras.layers.Activation(activation))\n",
    "    model.add(keras.layers.Dense(1)) \n",
    "    \n",
    "    model.compile(optimizer='adam', loss='mse')\n",
    "    return model\n",
    "    \n",
    "model = KerasRegressor(build_fn=create_model, verbose=0) "
   ]
  },
  {
   "cell_type": "code",
   "execution_count": 36,
   "metadata": {},
   "outputs": [],
   "source": [
    "layers = [[168, 84, 42, 21]]\n",
    "activations = [keras.activations.relu]\n",
    "batch_sizes= [128, 256]\n",
    "param_grid = dict(layers=layers, activation=activations, batch_size=batch_sizes)\n",
    "grid = GridSearchCV(estimator=model, param_grid=param_grid, cv=5, scoring='r2')"
   ]
  },
  {
   "cell_type": "code",
   "execution_count": 37,
   "metadata": {},
   "outputs": [
    {
     "name": "stdout",
     "output_type": "stream",
     "text": [
      "Epoch 00027: early stopping\n",
      "Epoch 00025: early stopping\n",
      "Epoch 00026: early stopping\n",
      "Epoch 00019: early stopping\n",
      "Epoch 00038: early stopping\n",
      "Epoch 00036: early stopping\n",
      "Epoch 00032: early stopping\n",
      "Epoch 00030: early stopping\n",
      "Epoch 00034: early stopping\n",
      "Epoch 00032: early stopping\n",
      "Epoch 00026: early stopping\n"
     ]
    }
   ],
   "source": [
    "grid_result = grid.fit(X_train_scaled, y_train,\n",
    "                       validation_data=(X_test_scaled, y_test),\n",
    "                       callbacks=[monitor, checkpointer], \n",
    "                       verbose=0, epochs=1000)"
   ]
  },
  {
   "cell_type": "code",
   "execution_count": 38,
   "metadata": {
    "scrolled": true
   },
   "outputs": [
    {
     "data": {
      "text/plain": [
       "{'activation': <function tensorflow.python.keras.activations.relu>,\n",
       " 'batch_size': 128,\n",
       " 'layers': [168, 84, 42, 21]}"
      ]
     },
     "execution_count": 38,
     "metadata": {},
     "output_type": "execute_result"
    }
   ],
   "source": [
    "grid_result.best_params_"
   ]
  },
  {
   "cell_type": "code",
   "execution_count": 39,
   "metadata": {},
   "outputs": [],
   "source": [
    "tf_tuned = grid_result.best_estimator_"
   ]
  },
  {
   "cell_type": "code",
   "execution_count": 40,
   "metadata": {},
   "outputs": [],
   "source": [
    "tf_tuned_pred = tf_tuned.predict(X_test_scaled)"
   ]
  },
  {
   "cell_type": "code",
   "execution_count": 41,
   "metadata": {},
   "outputs": [
    {
     "data": {
      "text/plain": [
       "0.6752849640517213"
      ]
     },
     "execution_count": 41,
     "metadata": {},
     "output_type": "execute_result"
    }
   ],
   "source": [
    "sklearn.metrics.r2_score(tf_tuned_pred, y_test)"
   ]
  },
  {
   "cell_type": "code",
   "execution_count": 42,
   "metadata": {},
   "outputs": [
    {
     "data": {
      "image/png": "[encoded data removed]",
      "text/plain": [
       "<Figure size 432x288 with 1 Axes>"
      ]
     },
     "metadata": {},
     "output_type": "display_data"
    }
   ],
   "source": [
    "plot_regression(tf_tuned_pred.flatten(), y_test)"
   ]
  },
  {
   "cell_type": "markdown",
   "metadata": {},
   "source": [
    "# Modeling the Newly Scraped Data\n",
    "At this point I have created some models to predict the price of cars on the large eBay used cars dataset that I found on Kaggle.com. I also scraped a new dataset, cleaned it, and preprocessed it the same way as the old dataset. I am now ready to run some predictions on this new dataset."
   ]
  },
  {
   "cell_type": "markdown",
   "metadata": {},
   "source": [
    "My random forest regressor was the most accurate predictor so I will be using that to run my predictions now."
   ]
  },
  {
   "cell_type": "code",
   "execution_count": 43,
   "metadata": {},
   "outputs": [],
   "source": [
    "final_predictions = tuned_rfr.predict(later_features)"
   ]
  },
  {
   "cell_type": "code",
   "execution_count": 44,
   "metadata": {},
   "outputs": [
    {
     "data": {
      "text/plain": [
       "0.7433588548263369"
      ]
     },
     "execution_count": 44,
     "metadata": {},
     "output_type": "execute_result"
    }
   ],
   "source": [
    "# Let's see how close my predictions came to the actual sale prices\n",
    "sklearn.metrics.r2_score(later_outcome, final_predictions)"
   ]
  },
  {
   "cell_type": "markdown",
   "metadata": {},
   "source": [
    "That's pretty good for how small the datasets were that I used. The data science product will be finding which of these cars are underpriced. That way we can buy them and make a profit."
   ]
  },
  {
   "cell_type": "code",
   "execution_count": 45,
   "metadata": {},
   "outputs": [],
   "source": [
    "results = pd.DataFrame({'name':later_names, 'price':later_outcome, 'assessed value':final_predictions.round(2), 'margin':final_predictions.round(2)-later_outcome})"
   ]
  },
  {
   "cell_type": "code",
   "execution_count": 46,
   "metadata": {},
   "outputs": [
    {
     "data": {
      "text/html": [
       "<div>\n",
       "<style scoped>\n",
       "    .dataframe tbody tr th:only-of-type {\n",
       "        vertical-align: middle;\n",
       "    }\n",
       "\n",
       "    .dataframe tbody tr th {\n",
       "        vertical-align: top;\n",
       "    }\n",
       "\n",
       "    .dataframe thead th {\n",
       "        text-align: right;\n",
       "    }\n",
       "</style>\n",
       "<table border=\"1\" class=\"dataframe\">\n",
       "  <thead>\n",
       "    <tr style=\"text-align: right;\">\n",
       "      <th></th>\n",
       "      <th>assessed value</th>\n",
       "      <th>margin</th>\n",
       "      <th>name</th>\n",
       "      <th>price</th>\n",
       "    </tr>\n",
       "  </thead>\n",
       "  <tbody>\n",
       "    <tr>\n",
       "      <th>0</th>\n",
       "      <td>10994.86</td>\n",
       "      <td>994.86</td>\n",
       "      <td>bmw 525xi m paket xenon navi</td>\n",
       "      <td>10000.0</td>\n",
       "    </tr>\n",
       "    <tr>\n",
       "      <th>1</th>\n",
       "      <td>3760.50</td>\n",
       "      <td>-1019.50</td>\n",
       "      <td>nissan micra 1.2 edition 25 jahre 1 jahr garan...</td>\n",
       "      <td>4780.0</td>\n",
       "    </tr>\n",
       "    <tr>\n",
       "      <th>2</th>\n",
       "      <td>66238.44</td>\n",
       "      <td>-53261.56</td>\n",
       "      <td>porsche 991 carrera 4s cabriolet sportchrono s...</td>\n",
       "      <td>119500.0</td>\n",
       "    </tr>\n",
       "    <tr>\n",
       "      <th>3</th>\n",
       "      <td>859.73</td>\n",
       "      <td>-140.27</td>\n",
       "      <td>volkswagen golf 1.6</td>\n",
       "      <td>1000.0</td>\n",
       "    </tr>\n",
       "    <tr>\n",
       "      <th>4</th>\n",
       "      <td>4853.90</td>\n",
       "      <td>403.90</td>\n",
       "      <td>mini cabrio  sonderausstattung mit tüv leder s...</td>\n",
       "      <td>4450.0</td>\n",
       "    </tr>\n",
       "    <tr>\n",
       "      <th>5</th>\n",
       "      <td>13750.96</td>\n",
       "      <td>1260.96</td>\n",
       "      <td>volkswagen passat cc 2.0 tdi bluemotion techno...</td>\n",
       "      <td>12490.0</td>\n",
       "    </tr>\n",
       "    <tr>\n",
       "      <th>6</th>\n",
       "      <td>6896.97</td>\n",
       "      <td>-4083.03</td>\n",
       "      <td>smart fortwo coupe passion/cool&amp;audio/jbl/led/...</td>\n",
       "      <td>10980.0</td>\n",
       "    </tr>\n",
       "    <tr>\n",
       "      <th>7</th>\n",
       "      <td>7215.12</td>\n",
       "      <td>-5744.88</td>\n",
       "      <td>smart fortwo coupe prime/twinamic/cool&amp;audio/l...</td>\n",
       "      <td>12960.0</td>\n",
       "    </tr>\n",
       "    <tr>\n",
       "      <th>8</th>\n",
       "      <td>3135.62</td>\n",
       "      <td>35.62</td>\n",
       "      <td>opel meriva 1.8 16v cosmo mit gasanlage</td>\n",
       "      <td>3100.0</td>\n",
       "    </tr>\n",
       "    <tr>\n",
       "      <th>9</th>\n",
       "      <td>4425.12</td>\n",
       "      <td>2625.12</td>\n",
       "      <td>audi a4 2,5 tdi 6gang 179ps quattro tüv 12.19 ...</td>\n",
       "      <td>1800.0</td>\n",
       "    </tr>\n",
       "    <tr>\n",
       "      <th>11</th>\n",
       "      <td>3404.68</td>\n",
       "      <td>1904.68</td>\n",
       "      <td>bmw 525d automatik exklusive fast voll tausch</td>\n",
       "      <td>1500.0</td>\n",
       "    </tr>\n",
       "    <tr>\n",
       "      <th>12</th>\n",
       "      <td>7197.73</td>\n",
       "      <td>-5372.27</td>\n",
       "      <td>smart fortwo coupe passion/twinamic/navi/led/s...</td>\n",
       "      <td>12570.0</td>\n",
       "    </tr>\n",
       "    <tr>\n",
       "      <th>14</th>\n",
       "      <td>3427.74</td>\n",
       "      <td>1426.74</td>\n",
       "      <td>toyota yaris basis, neue ganzjahresreifen, tüv...</td>\n",
       "      <td>2001.0</td>\n",
       "    </tr>\n",
       "    <tr>\n",
       "      <th>15</th>\n",
       "      <td>3466.75</td>\n",
       "      <td>-2233.25</td>\n",
       "      <td>1996 ford (usa) ranger pickup</td>\n",
       "      <td>5700.0</td>\n",
       "    </tr>\n",
       "    <tr>\n",
       "      <th>16</th>\n",
       "      <td>5685.09</td>\n",
       "      <td>3886.09</td>\n",
       "      <td>vw golf 5. 1,9 bls bluemotion 5 gang. motor ge...</td>\n",
       "      <td>1799.0</td>\n",
       "    </tr>\n",
       "    <tr>\n",
       "      <th>17</th>\n",
       "      <td>5031.77</td>\n",
       "      <td>-968.23</td>\n",
       "      <td>verkauf mein bmw 320</td>\n",
       "      <td>6000.0</td>\n",
       "    </tr>\n",
       "    <tr>\n",
       "      <th>18</th>\n",
       "      <td>28936.20</td>\n",
       "      <td>5036.20</td>\n",
       "      <td>volkswagen touareg4.2v8r-line+exclusive wirkli...</td>\n",
       "      <td>23900.0</td>\n",
       "    </tr>\n",
       "    <tr>\n",
       "      <th>20</th>\n",
       "      <td>8568.09</td>\n",
       "      <td>569.09</td>\n",
       "      <td>a4 avant 1.8 tsi s-line, vollausstattung schec...</td>\n",
       "      <td>7999.0</td>\n",
       "    </tr>\n",
       "    <tr>\n",
       "      <th>22</th>\n",
       "      <td>11262.54</td>\n",
       "      <td>-537.46</td>\n",
       "      <td>bmw 130i m-paket,m-performan</td>\n",
       "      <td>11800.0</td>\n",
       "    </tr>\n",
       "    <tr>\n",
       "      <th>24</th>\n",
       "      <td>17330.33</td>\n",
       "      <td>2880.33</td>\n",
       "      <td>volkswagen golf vii variant 1.6 tdi dsg navi s...</td>\n",
       "      <td>14450.0</td>\n",
       "    </tr>\n",
       "    <tr>\n",
       "      <th>25</th>\n",
       "      <td>7813.15</td>\n",
       "      <td>3513.15</td>\n",
       "      <td>audi a6 3.0 tdi</td>\n",
       "      <td>4300.0</td>\n",
       "    </tr>\n",
       "    <tr>\n",
       "      <th>26</th>\n",
       "      <td>1520.68</td>\n",
       "      <td>-878.32</td>\n",
       "      <td>bmw 320i e36 limousine (kein 316, 318, 323, 32...</td>\n",
       "      <td>2399.0</td>\n",
       "    </tr>\n",
       "    <tr>\n",
       "      <th>29</th>\n",
       "      <td>5557.03</td>\n",
       "      <td>-2342.97</td>\n",
       "      <td>bmw bmw 520d touring klima shz ahk navi nr garage</td>\n",
       "      <td>7900.0</td>\n",
       "    </tr>\n",
       "    <tr>\n",
       "      <th>30</th>\n",
       "      <td>1234.64</td>\n",
       "      <td>235.64</td>\n",
       "      <td>volkswagen lupo 1.0 comfortline</td>\n",
       "      <td>999.0</td>\n",
       "    </tr>\n",
       "    <tr>\n",
       "      <th>33</th>\n",
       "      <td>7984.67</td>\n",
       "      <td>2084.67</td>\n",
       "      <td>bmw bmw 530d  automatik e60 diesel</td>\n",
       "      <td>5900.0</td>\n",
       "    </tr>\n",
       "    <tr>\n",
       "      <th>37</th>\n",
       "      <td>6981.21</td>\n",
       "      <td>1181.21</td>\n",
       "      <td>seat leon 1.6 tdi</td>\n",
       "      <td>5800.0</td>\n",
       "    </tr>\n",
       "    <tr>\n",
       "      <th>38</th>\n",
       "      <td>12223.34</td>\n",
       "      <td>4323.34</td>\n",
       "      <td>alfa romeo 166 3.2 v6 24v ti distinctive</td>\n",
       "      <td>7900.0</td>\n",
       "    </tr>\n",
       "    <tr>\n",
       "      <th>39</th>\n",
       "      <td>6278.38</td>\n",
       "      <td>-221.62</td>\n",
       "      <td>volkswagen golf 1.6 trendline</td>\n",
       "      <td>6500.0</td>\n",
       "    </tr>\n",
       "    <tr>\n",
       "      <th>40</th>\n",
       "      <td>1234.64</td>\n",
       "      <td>235.64</td>\n",
       "      <td>vw lupo 1.0 liter</td>\n",
       "      <td>999.0</td>\n",
       "    </tr>\n",
       "    <tr>\n",
       "      <th>41</th>\n",
       "      <td>1161.33</td>\n",
       "      <td>-38.67</td>\n",
       "      <td>nissan serena 1.6 lx</td>\n",
       "      <td>1200.0</td>\n",
       "    </tr>\n",
       "    <tr>\n",
       "      <th>...</th>\n",
       "      <td>...</td>\n",
       "      <td>...</td>\n",
       "      <td>...</td>\n",
       "      <td>...</td>\n",
       "    </tr>\n",
       "    <tr>\n",
       "      <th>212</th>\n",
       "      <td>910.32</td>\n",
       "      <td>-1979.68</td>\n",
       "      <td>volkswagen vento 1.8 glx  rentner auto -sammle...</td>\n",
       "      <td>2890.0</td>\n",
       "    </tr>\n",
       "    <tr>\n",
       "      <th>213</th>\n",
       "      <td>7374.68</td>\n",
       "      <td>1024.68</td>\n",
       "      <td>89 € über bank /honda civic 1.8  mit 140ps 4tü...</td>\n",
       "      <td>6350.0</td>\n",
       "    </tr>\n",
       "    <tr>\n",
       "      <th>214</th>\n",
       "      <td>811.20</td>\n",
       "      <td>-608.80</td>\n",
       "      <td>ford mondeo1.8 turnier ambiente*tüv 03.2021*ah...</td>\n",
       "      <td>1420.0</td>\n",
       "    </tr>\n",
       "    <tr>\n",
       "      <th>215</th>\n",
       "      <td>6429.58</td>\n",
       "      <td>529.58</td>\n",
       "      <td>audi tt 8n, coupe , 1.8 t quattro, leder, xeno...</td>\n",
       "      <td>5900.0</td>\n",
       "    </tr>\n",
       "    <tr>\n",
       "      <th>218</th>\n",
       "      <td>9084.79</td>\n",
       "      <td>2585.79</td>\n",
       "      <td>volkswagen touran freestyle navi klimaautomati...</td>\n",
       "      <td>6499.0</td>\n",
       "    </tr>\n",
       "    <tr>\n",
       "      <th>219</th>\n",
       "      <td>3051.23</td>\n",
       "      <td>51.23</td>\n",
       "      <td>7891032165</td>\n",
       "      <td>3000.0</td>\n",
       "    </tr>\n",
       "    <tr>\n",
       "      <th>220</th>\n",
       "      <td>13541.43</td>\n",
       "      <td>-358.57</td>\n",
       "      <td>volkswagen caddy 1.2 tsi bmt soccer klima pdc ...</td>\n",
       "      <td>13900.0</td>\n",
       "    </tr>\n",
       "    <tr>\n",
       "      <th>222</th>\n",
       "      <td>3383.08</td>\n",
       "      <td>733.08</td>\n",
       "      <td>bmw 318 d - klima - euro 4 - alu - tüv - nicht...</td>\n",
       "      <td>2650.0</td>\n",
       "    </tr>\n",
       "    <tr>\n",
       "      <th>224</th>\n",
       "      <td>8118.54</td>\n",
       "      <td>-2381.46</td>\n",
       "      <td>volkswagen golf 1.6 trendline</td>\n",
       "      <td>10500.0</td>\n",
       "    </tr>\n",
       "    <tr>\n",
       "      <th>225</th>\n",
       "      <td>5849.48</td>\n",
       "      <td>2050.48</td>\n",
       "      <td>klick mich! *** skoda fabia 1.6 tdi dpf combi ...</td>\n",
       "      <td>3799.0</td>\n",
       "    </tr>\n",
       "    <tr>\n",
       "      <th>229</th>\n",
       "      <td>2865.35</td>\n",
       "      <td>1465.35</td>\n",
       "      <td>seat leon 1.6 16v</td>\n",
       "      <td>1400.0</td>\n",
       "    </tr>\n",
       "    <tr>\n",
       "      <th>231</th>\n",
       "      <td>6692.32</td>\n",
       "      <td>3293.32</td>\n",
       "      <td>volkswagen passat variant comfortline 2.0tdi n...</td>\n",
       "      <td>3399.0</td>\n",
       "    </tr>\n",
       "    <tr>\n",
       "      <th>233</th>\n",
       "      <td>5751.63</td>\n",
       "      <td>961.63</td>\n",
       "      <td>renault laguna grandtour 2.0 dci fap dynamique</td>\n",
       "      <td>4790.0</td>\n",
       "    </tr>\n",
       "    <tr>\n",
       "      <th>234</th>\n",
       "      <td>2526.90</td>\n",
       "      <td>1326.90</td>\n",
       "      <td>rover 45 - benziner - blaumetallic - tüv 11/20...</td>\n",
       "      <td>1200.0</td>\n",
       "    </tr>\n",
       "    <tr>\n",
       "      <th>235</th>\n",
       "      <td>2747.21</td>\n",
       "      <td>447.21</td>\n",
       "      <td>skoda fabia</td>\n",
       "      <td>2300.0</td>\n",
       "    </tr>\n",
       "    <tr>\n",
       "      <th>236</th>\n",
       "      <td>17039.43</td>\n",
       "      <td>3139.43</td>\n",
       "      <td>opel astra j 2.0 cdti aut. xenon navi kamera s...</td>\n",
       "      <td>13900.0</td>\n",
       "    </tr>\n",
       "    <tr>\n",
       "      <th>237</th>\n",
       "      <td>5294.64</td>\n",
       "      <td>1195.64</td>\n",
       "      <td>mini mini cooper d</td>\n",
       "      <td>4099.0</td>\n",
       "    </tr>\n",
       "    <tr>\n",
       "      <th>239</th>\n",
       "      <td>6550.72</td>\n",
       "      <td>50.72</td>\n",
       "      <td>renault twingo 1.2 eco2 dynamique</td>\n",
       "      <td>6500.0</td>\n",
       "    </tr>\n",
       "    <tr>\n",
       "      <th>240</th>\n",
       "      <td>7199.82</td>\n",
       "      <td>3199.82</td>\n",
       "      <td>renault laguna 3 initial(tauchen oder verkaufen)</td>\n",
       "      <td>4000.0</td>\n",
       "    </tr>\n",
       "    <tr>\n",
       "      <th>243</th>\n",
       "      <td>7742.40</td>\n",
       "      <td>-6107.60</td>\n",
       "      <td>e46 325 cabrio stratus grau zimt leder m paket 2</td>\n",
       "      <td>13850.0</td>\n",
       "    </tr>\n",
       "    <tr>\n",
       "      <th>244</th>\n",
       "      <td>3784.61</td>\n",
       "      <td>1084.61</td>\n",
       "      <td>fiat grande punto 1.2 8v actual</td>\n",
       "      <td>2700.0</td>\n",
       "    </tr>\n",
       "    <tr>\n",
       "      <th>245</th>\n",
       "      <td>6036.46</td>\n",
       "      <td>836.46</td>\n",
       "      <td>opel corsa 1.4 16v edition</td>\n",
       "      <td>5200.0</td>\n",
       "    </tr>\n",
       "    <tr>\n",
       "      <th>246</th>\n",
       "      <td>4476.00</td>\n",
       "      <td>177.00</td>\n",
       "      <td>opel corsa 1.4  scheckheft 5türer</td>\n",
       "      <td>4299.0</td>\n",
       "    </tr>\n",
       "    <tr>\n",
       "      <th>247</th>\n",
       "      <td>3841.44</td>\n",
       "      <td>851.44</td>\n",
       "      <td>audi a3 1.9tdi euro4 norm  2.hand</td>\n",
       "      <td>2990.0</td>\n",
       "    </tr>\n",
       "    <tr>\n",
       "      <th>248</th>\n",
       "      <td>2103.00</td>\n",
       "      <td>153.00</td>\n",
       "      <td>opel vectra c</td>\n",
       "      <td>1950.0</td>\n",
       "    </tr>\n",
       "    <tr>\n",
       "      <th>250</th>\n",
       "      <td>7196.45</td>\n",
       "      <td>296.45</td>\n",
       "      <td>fiat 500 cabrio 1,2 liter</td>\n",
       "      <td>6900.0</td>\n",
       "    </tr>\n",
       "    <tr>\n",
       "      <th>251</th>\n",
       "      <td>17929.13</td>\n",
       "      <td>4480.13</td>\n",
       "      <td>mercedes-benz r 300 cdi dpf blueefficiency 7g-...</td>\n",
       "      <td>13449.0</td>\n",
       "    </tr>\n",
       "    <tr>\n",
       "      <th>252</th>\n",
       "      <td>665.58</td>\n",
       "      <td>-24.42</td>\n",
       "      <td>audi a4 avant b5</td>\n",
       "      <td>690.0</td>\n",
       "    </tr>\n",
       "    <tr>\n",
       "      <th>253</th>\n",
       "      <td>2207.54</td>\n",
       "      <td>407.54</td>\n",
       "      <td>audi a4 avant 1.8t</td>\n",
       "      <td>1800.0</td>\n",
       "    </tr>\n",
       "    <tr>\n",
       "      <th>254</th>\n",
       "      <td>4598.43</td>\n",
       "      <td>-1401.57</td>\n",
       "      <td>verkaufe oder tausche audi a6 2.7t quattro</td>\n",
       "      <td>6000.0</td>\n",
       "    </tr>\n",
       "  </tbody>\n",
       "</table>\n",
       "<p>180 rows × 4 columns</p>\n",
       "</div>"
      ],
      "text/plain": [
       "     assessed value    margin  \\\n",
       "0          10994.86    994.86   \n",
       "1           3760.50  -1019.50   \n",
       "2          66238.44 -53261.56   \n",
       "3            859.73   -140.27   \n",
       "4           4853.90    403.90   \n",
       "5          13750.96   1260.96   \n",
       "6           6896.97  -4083.03   \n",
       "7           7215.12  -5744.88   \n",
       "8           3135.62     35.62   \n",
       "9           4425.12   2625.12   \n",
       "11          3404.68   1904.68   \n",
       "12          7197.73  -5372.27   \n",
       "14          3427.74   1426.74   \n",
       "15          3466.75  -2233.25   \n",
       "16          5685.09   3886.09   \n",
       "17          5031.77   -968.23   \n",
       "18         28936.20   5036.20   \n",
       "20          8568.09    569.09   \n",
       "22         11262.54   -537.46   \n",
       "24         17330.33   2880.33   \n",
       "25          7813.15   3513.15   \n",
       "26          1520.68   -878.32   \n",
       "29          5557.03  -2342.97   \n",
       "30          1234.64    235.64   \n",
       "33          7984.67   2084.67   \n",
       "37          6981.21   1181.21   \n",
       "38         12223.34   4323.34   \n",
       "39          6278.38   -221.62   \n",
       "40          1234.64    235.64   \n",
       "41          1161.33    -38.67   \n",
       "..              ...       ...   \n",
       "212          910.32  -1979.68   \n",
       "213         7374.68   1024.68   \n",
       "214          811.20   -608.80   \n",
       "215         6429.58    529.58   \n",
       "218         9084.79   2585.79   \n",
       "219         3051.23     51.23   \n",
       "220        13541.43   -358.57   \n",
       "222         3383.08    733.08   \n",
       "224         8118.54  -2381.46   \n",
       "225         5849.48   2050.48   \n",
       "229         2865.35   1465.35   \n",
       "231         6692.32   3293.32   \n",
       "233         5751.63    961.63   \n",
       "234         2526.90   1326.90   \n",
       "235         2747.21    447.21   \n",
       "236        17039.43   3139.43   \n",
       "237         5294.64   1195.64   \n",
       "239         6550.72     50.72   \n",
       "240         7199.82   3199.82   \n",
       "243         7742.40  -6107.60   \n",
       "244         3784.61   1084.61   \n",
       "245         6036.46    836.46   \n",
       "246         4476.00    177.00   \n",
       "247         3841.44    851.44   \n",
       "248         2103.00    153.00   \n",
       "250         7196.45    296.45   \n",
       "251        17929.13   4480.13   \n",
       "252          665.58    -24.42   \n",
       "253         2207.54    407.54   \n",
       "254         4598.43  -1401.57   \n",
       "\n",
       "                                                  name     price  \n",
       "0                         bmw 525xi m paket xenon navi   10000.0  \n",
       "1    nissan micra 1.2 edition 25 jahre 1 jahr garan...    4780.0  \n",
       "2    porsche 991 carrera 4s cabriolet sportchrono s...  119500.0  \n",
       "3                                  volkswagen golf 1.6    1000.0  \n",
       "4    mini cabrio  sonderausstattung mit tüv leder s...    4450.0  \n",
       "5    volkswagen passat cc 2.0 tdi bluemotion techno...   12490.0  \n",
       "6    smart fortwo coupe passion/cool&audio/jbl/led/...   10980.0  \n",
       "7    smart fortwo coupe prime/twinamic/cool&audio/l...   12960.0  \n",
       "8              opel meriva 1.8 16v cosmo mit gasanlage    3100.0  \n",
       "9    audi a4 2,5 tdi 6gang 179ps quattro tüv 12.19 ...    1800.0  \n",
       "11       bmw 525d automatik exklusive fast voll tausch    1500.0  \n",
       "12   smart fortwo coupe passion/twinamic/navi/led/s...   12570.0  \n",
       "14   toyota yaris basis, neue ganzjahresreifen, tüv...    2001.0  \n",
       "15                       1996 ford (usa) ranger pickup    5700.0  \n",
       "16   vw golf 5. 1,9 bls bluemotion 5 gang. motor ge...    1799.0  \n",
       "17                                verkauf mein bmw 320    6000.0  \n",
       "18   volkswagen touareg4.2v8r-line+exclusive wirkli...   23900.0  \n",
       "20   a4 avant 1.8 tsi s-line, vollausstattung schec...    7999.0  \n",
       "22                        bmw 130i m-paket,m-performan   11800.0  \n",
       "24   volkswagen golf vii variant 1.6 tdi dsg navi s...   14450.0  \n",
       "25                                     audi a6 3.0 tdi    4300.0  \n",
       "26   bmw 320i e36 limousine (kein 316, 318, 323, 32...    2399.0  \n",
       "29   bmw bmw 520d touring klima shz ahk navi nr garage    7900.0  \n",
       "30                     volkswagen lupo 1.0 comfortline     999.0  \n",
       "33                  bmw bmw 530d  automatik e60 diesel    5900.0  \n",
       "37                                   seat leon 1.6 tdi    5800.0  \n",
       "38            alfa romeo 166 3.2 v6 24v ti distinctive    7900.0  \n",
       "39                       volkswagen golf 1.6 trendline    6500.0  \n",
       "40                                   vw lupo 1.0 liter     999.0  \n",
       "41                                nissan serena 1.6 lx    1200.0  \n",
       "..                                                 ...       ...  \n",
       "212  volkswagen vento 1.8 glx  rentner auto -sammle...    2890.0  \n",
       "213  89 € über bank /honda civic 1.8  mit 140ps 4tü...    6350.0  \n",
       "214  ford mondeo1.8 turnier ambiente*tüv 03.2021*ah...    1420.0  \n",
       "215  audi tt 8n, coupe , 1.8 t quattro, leder, xeno...    5900.0  \n",
       "218  volkswagen touran freestyle navi klimaautomati...    6499.0  \n",
       "219                                         7891032165    3000.0  \n",
       "220  volkswagen caddy 1.2 tsi bmt soccer klima pdc ...   13900.0  \n",
       "222  bmw 318 d - klima - euro 4 - alu - tüv - nicht...    2650.0  \n",
       "224                      volkswagen golf 1.6 trendline   10500.0  \n",
       "225  klick mich! *** skoda fabia 1.6 tdi dpf combi ...    3799.0  \n",
       "229                                  seat leon 1.6 16v    1400.0  \n",
       "231  volkswagen passat variant comfortline 2.0tdi n...    3399.0  \n",
       "233     renault laguna grandtour 2.0 dci fap dynamique    4790.0  \n",
       "234  rover 45 - benziner - blaumetallic - tüv 11/20...    1200.0  \n",
       "235                                        skoda fabia    2300.0  \n",
       "236  opel astra j 2.0 cdti aut. xenon navi kamera s...   13900.0  \n",
       "237                                 mini mini cooper d    4099.0  \n",
       "239                  renault twingo 1.2 eco2 dynamique    6500.0  \n",
       "240   renault laguna 3 initial(tauchen oder verkaufen)    4000.0  \n",
       "243   e46 325 cabrio stratus grau zimt leder m paket 2   13850.0  \n",
       "244                    fiat grande punto 1.2 8v actual    2700.0  \n",
       "245                         opel corsa 1.4 16v edition    5200.0  \n",
       "246                  opel corsa 1.4  scheckheft 5türer    4299.0  \n",
       "247                  audi a3 1.9tdi euro4 norm  2.hand    2990.0  \n",
       "248                                      opel vectra c    1950.0  \n",
       "250                          fiat 500 cabrio 1,2 liter    6900.0  \n",
       "251  mercedes-benz r 300 cdi dpf blueefficiency 7g-...   13449.0  \n",
       "252                                   audi a4 avant b5     690.0  \n",
       "253                                 audi a4 avant 1.8t    1800.0  \n",
       "254         verkaufe oder tausche audi a6 2.7t quattro    6000.0  \n",
       "\n",
       "[180 rows x 4 columns]"
      ]
     },
     "execution_count": 46,
     "metadata": {},
     "output_type": "execute_result"
    }
   ],
   "source": [
    "results"
   ]
  }
 ],
 "metadata": {
  "kernelspec": {
   "display_name": "Python 3",
   "language": "python",
   "name": "python3"
  },
  "language_info": {
   "codemirror_mode": {
    "name": "ipython",
    "version": 3
   },
   "file_extension": ".py",
   "mimetype": "text/x-python",
   "name": "python",
   "nbconvert_exporter": "python",
   "pygments_lexer": "ipython3",
   "version": "3.6.4"
  }
 },
 "nbformat": 4,
 "nbformat_minor": 2
}
